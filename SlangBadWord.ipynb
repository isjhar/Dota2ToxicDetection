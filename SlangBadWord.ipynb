{
 "cells": [
  {
   "cell_type": "code",
   "execution_count": 1,
   "metadata": {},
   "outputs": [],
   "source": [
    "import pandas as pd\n",
    "import nltk\n",
    "from sklearn.model_selection import train_test_split\n",
    "import numpy as np\n",
    "import matplotlib.pyplot as plt\n",
    "from profanity_check import predict, predict_prob"
   ]
  },
  {
   "cell_type": "code",
   "execution_count": 2,
   "metadata": {},
   "outputs": [],
   "source": [
    "import slangs\n",
    "import string"
   ]
  },
  {
   "cell_type": "markdown",
   "metadata": {},
   "source": [
    "<h2> Getting Abbreviation of words (Singkatan English) </h2>"
   ]
  },
  {
   "cell_type": "code",
   "execution_count": 3,
   "metadata": {},
   "outputs": [],
   "source": [
    "from bs4 import BeautifulSoup\n",
    "import urllib3\n",
    "http = urllib3.PoolManager()"
   ]
  },
  {
   "cell_type": "code",
   "execution_count": 4,
   "metadata": {},
   "outputs": [],
   "source": [
    "Abbr_dict={}\n",
    "#Load daftar slang word dari api noslang.com\n",
    "def getAbbr(alpha):\n",
    "    global Abbr_dict\n",
    "    r = http.request('GET','https://www.noslang.com/dictionary/'+alpha)\n",
    "    soup = BeautifulSoup(r.data,'html.parser')\n",
    "    \n",
    "    for i in soup.findAll('div',{'class':'dictionary-word'}): \n",
    "        abbr = i.find('abbr')['title']\n",
    "        Abbr_dict[i.find('span').text[:-2]] = abbr\n",
    "    "
   ]
  },
  {
   "cell_type": "code",
   "execution_count": 5,
   "metadata": {},
   "outputs": [],
   "source": [
    "linkDict=[]\n",
    "\n",
    "for one in range(97,123):\n",
    "    linkDict.append(chr(one))"
   ]
  },
  {
   "cell_type": "code",
   "execution_count": 6,
   "metadata": {},
   "outputs": [],
   "source": [
    "for i in linkDict:\n",
    "    getAbbr(i)"
   ]
  },
  {
   "cell_type": "code",
   "execution_count": 7,
   "metadata": {},
   "outputs": [],
   "source": [
    "#Hapus punctuation\n",
    "s = \"pro.\"\n",
    "table = str.maketrans(dict.fromkeys(string.punctuation))\n",
    "new_s = s.translate(table) "
   ]
  },
  {
   "cell_type": "code",
   "execution_count": 8,
   "metadata": {},
   "outputs": [
    {
     "output_type": "execute_result",
     "data": {
      "text/plain": "'professional'"
     },
     "metadata": {},
     "execution_count": 8
    }
   ],
   "source": [
    "#Test abbreviations\n",
    "Abbr_dict[new_s]"
   ]
  },
  {
   "cell_type": "markdown",
   "metadata": {},
   "source": [
    "<h2>Preprocess Raw Data</h2>"
   ]
  },
  {
   "cell_type": "code",
   "execution_count": 9,
   "metadata": {},
   "outputs": [
    {
     "output_type": "execute_result",
     "data": {
      "text/plain": "   match  slot                                               text\n0      2     0  yes dog. yeah . fast and furious. too fas. hah...\n1      2     2                          no idiot. we too pro. lol\n2      2     4                           HAHAH. COMMEND ME TY. EZ\n3      6     0  so ya mama likes dick ehh?. figures. ur not ev...\n4      6     1  reprot. SAD. fucking reported axe. WORST HOOK ...\n5      6     3                                                 gg\n6      6     4                                         axe is axe\n7      6     8                sorry nex. i killed u . almost . gg\n8      8     6  PUSH. not defending. dodger lc. swap commend t...\n9      9     3  what. jeje fAM. free farming ls. not coming in...",
      "text/html": "<div>\n<style scoped>\n    .dataframe tbody tr th:only-of-type {\n        vertical-align: middle;\n    }\n\n    .dataframe tbody tr th {\n        vertical-align: top;\n    }\n\n    .dataframe thead th {\n        text-align: right;\n    }\n</style>\n<table border=\"1\" class=\"dataframe\">\n  <thead>\n    <tr style=\"text-align: right;\">\n      <th></th>\n      <th>match</th>\n      <th>slot</th>\n      <th>text</th>\n    </tr>\n  </thead>\n  <tbody>\n    <tr>\n      <th>0</th>\n      <td>2</td>\n      <td>0</td>\n      <td>yes dog. yeah . fast and furious. too fas. hah...</td>\n    </tr>\n    <tr>\n      <th>1</th>\n      <td>2</td>\n      <td>2</td>\n      <td>no idiot. we too pro. lol</td>\n    </tr>\n    <tr>\n      <th>2</th>\n      <td>2</td>\n      <td>4</td>\n      <td>HAHAH. COMMEND ME TY. EZ</td>\n    </tr>\n    <tr>\n      <th>3</th>\n      <td>6</td>\n      <td>0</td>\n      <td>so ya mama likes dick ehh?. figures. ur not ev...</td>\n    </tr>\n    <tr>\n      <th>4</th>\n      <td>6</td>\n      <td>1</td>\n      <td>reprot. SAD. fucking reported axe. WORST HOOK ...</td>\n    </tr>\n    <tr>\n      <th>5</th>\n      <td>6</td>\n      <td>3</td>\n      <td>gg</td>\n    </tr>\n    <tr>\n      <th>6</th>\n      <td>6</td>\n      <td>4</td>\n      <td>axe is axe</td>\n    </tr>\n    <tr>\n      <th>7</th>\n      <td>6</td>\n      <td>8</td>\n      <td>sorry nex. i killed u . almost . gg</td>\n    </tr>\n    <tr>\n      <th>8</th>\n      <td>8</td>\n      <td>6</td>\n      <td>PUSH. not defending. dodger lc. swap commend t...</td>\n    </tr>\n    <tr>\n      <th>9</th>\n      <td>9</td>\n      <td>3</td>\n      <td>what. jeje fAM. free farming ls. not coming in...</td>\n    </tr>\n  </tbody>\n</table>\n</div>"
     },
     "metadata": {},
     "execution_count": 9
    }
   ],
   "source": [
    "data = pd.read_csv(\"dota2_chat_final.csv\", encoding=\"utf_8\", usecols=[\"match\", \"slot\", \"text\"])\n",
    "data = data.astype({\"match\": int, \"slot\": int, \"text\": str})\n",
    "data.head(10)"
   ]
  },
  {
   "cell_type": "markdown",
   "metadata": {},
   "source": [
    "<h3>Preprocessing Slang words and get the correct words</h3>"
   ]
  },
  {
   "cell_type": "code",
   "execution_count": 10,
   "metadata": {},
   "outputs": [],
   "source": [
    "all_words = data.text.tolist()\n",
    "all_words_no_punc = []\n",
    "#Hapus punctuation pada semua kata di dataset\n",
    "for i in range(len(all_words)):\n",
    "    table = str.maketrans(dict.fromkeys(string.punctuation))\n",
    "    all_words_no_punc.append(all_words[i].lower().translate(table))"
   ]
  },
  {
   "cell_type": "code",
   "execution_count": 11,
   "metadata": {
    "tags": [
     "outputPrepend",
     "outputPrepend"
    ]
   },
   "outputs": [],
   "source": [
    "all_words_no_punc_slangs = []\n",
    "for j in range(len(all_words_no_punc)):\n",
    "    #print(all_words_no_punc[j])\n",
    "    line = all_words_no_punc[j].split()\n",
    "    for i in line:\n",
    "        #Pengecekan jika kata terdapat dalam daftar kata slangs, dan diganti dengan kata asli nya\n",
    "        if i in slangs.CONTRACTION_MAP:\n",
    "            line[line.index(i)] = slangs.CONTRACTION_MAP[i]\n",
    "        #Pengecekan jika kata tidak terdapat dalam daftar kata slangs, cek langsung dengan abbreviation list\n",
    "        elif i in Abbr_dict:\n",
    "            line[line.index(i)] = Abbr_dict[i]\n",
    "    all_words_no_punc_slangs.append(' '.join(line).lower())"
   ]
  },
  {
   "cell_type": "code",
   "execution_count": 12,
   "metadata": {
    "tags": [
     "outputPrepend"
    ]
   },
   "outputs": [
    {
     "output_type": "stream",
     "name": "stdout",
     "text": "no idiot we too professional laughing out loud\n"
    }
   ],
   "source": [
    "print(all_words_no_punc_slangs[1])"
   ]
  },
  {
   "cell_type": "markdown",
   "metadata": {},
   "source": [
    "<h3>Bad and Insult Words Classification</h3>"
   ]
  },
  {
   "cell_type": "code",
   "execution_count": 13,
   "metadata": {
    "tags": [
     "outputPrepend",
     "outputPrepend",
     "outputPrepend"
    ]
   },
   "outputs": [
    {
     "output_type": "stream",
     "name": "stdout",
     "text": "yes dog yeah fast and furious ... [23.26983421]\nno idiot we too professional l... [79.84248862]\nhahah commend me thank you eas... [6.14697756]\nso yeah mama likes penis ehh f... [54.48983115]\nreprot sad fucking reported ax... [91.13929032]\ngood game... [9.53466983]\naxe is axe... [7.8481115]\nsorry nex i killed you almost ... [12.17227698]\npush not defending dodger lc s... [3.6480961]\nwhat jeje family free farming ... [99.87796668]\nheartshaker man that silence o... [13.16431897]\nyeah well played gege guys hah... [63.14388034]\nwrong person fuck you thank yo... [80.06875283]\ndrow remember me last game hah... [18.52376047]\nec haha nca game commend me... [12.46278212]\nextreme droll so good game 3 g... [3.30798525]\nwell played shit cunts... [92.63575019]\nfeed me go bot please don't be... [11.56084985]\nhappy no cour day i will sure ... [16.5493177]\n480 ping okay again and again ... [5.01669912]\nstupid medusa fucking medusa n... [97.49937818]\nwind reproted alien here laugh... [8.06338138]\ngood game i go away from keybo... [12.02530807]\ngood game wrong person because... [9.73800905]\nthis is kiss on the lips from ... [27.36704461]\nnever give up... [12.09560444]\nend cant win with wr support a... [6.93490528]\ndance good game fucking clock ... [73.50194319]\nend fast slow hand tinker good... [25.23471383]\nbrother you can see axe call g... [6.91472972]\ndie idiot divine for the win s... [98.08739343]\nwhats happening boyz as you ca... [6.5826824]\nthank you report sf and lycan ... [77.51397248]\nend good game mid mana shield ... [7.27123255]\nwow hahaha chill dude why so h... [20.70123227]\nsaying  150 bashes fucking dog... [59.76191346]\nyes when you die 21 timkes tim... [79.33770281]\neasy mid easy game... [6.65241851]\n i will commend you sniper if... [8.59580737]\nend woow comback is real good ... [7.88259954]\neasy dodge easy pango easy eas... [5.93296601]\nall right all right xhase omng... [10.33625617]\ncan you guys deni mid tower... [7.76826505]\nwait away from keyboard good g... [2.93298699]\nnow he rolls end next game fuc... [98.62080351]\ngood game wow gyro got aghas e... [7.74207128]\nreport week wjajhhahahha what ... [80.63855458]\ngood game fuck you for playing... [83.02165782]\ng someone who is new team arch... [81.45136654]\ndude he rage quit not coming b... [90.67765527]\nfuckin axe fuck jugnernauttttt... [97.52711678]\nlaughing out loud haha easy ha... [40.7878261]\nmy team extreme droll good gam... [6.93928056]\nwow apparently aggro doesnt sw... [61.85622139]\nand then right crucial crying ... [14.62056729]\ngood game well-played... [6.88668264]\nfucking axe retard vagina... [98.35262669]\nhappy new year... [8.79545542]\nshutup nerd... [40.07636472]\nlag the fuck up... [82.83346707]\nwhat the fuck okay... [83.93519051]\neasy team... [9.25980975]\nprofessional huskar commend... [10.51767291]\nwhy you do this worth good gam... [9.02442543]\nsekip mama you just just passe... [19.09593386]\nshut the fuck up your a fuckin... [99.99998324]\nskrra that lich 2 kd ratio cal... [99.99838683]\nwho is being a meme good game ... [4.09822435]\nwe from makedonia... [12.09560444]\nstop pause idiot oh my god stu... [77.25802361]\nwell if you remuse it will be ... [99.99999999]\nretard little fairplay rusians... [99.85697302]\nwiat please fuck mothers... [87.7246074]\ngggggggggggggggg fuck the game... [82.25373869]\nfuck this shit nap team really... [97.23044526]\ncant play... [12.98745217]\naw you got a silver edge for m... [12.32272247]\nfunny no cour no wards jungle ... [12.18489706]\nthe fan on low priority no pro... [12.37107068]\nhaha iyot is real haha... [28.66126685]\nthe the what the fuck slaid sh... [85.04439129]\nits took 3 year... [11.17246783]\nshe didnt wait for enigma... [12.72972349]\ndota 2 where a 45 minute game ... [37.2709108]\noh now you want to pause good ... [9.26426708]\ndon't forget to report naga... [10.55090445]\ngood game well-played laughing... [93.7286457]\nlets not forget 30 minute of b... [17.16940227]\ntake so long time to end wa so... [4.34534379]\nwow small id also professional... [69.7144629]\nsadd laughing out loud no defi... [30.44422438]\njajaja have fun you can out it... [7.14726357]\ndon't forget to report sf sf u... [7.13208309]\ngood luck have fun good game w... [4.93154733]\nfriendly fire away from keyboa... [14.43412536]\nshe is dead anyway lets stop w... [21.14839709]\nthank you for the laugh lads c... [4.9807598]\nnew meta es blink for what we ... [61.87215788]\nrussia is big in eu west but i... [31.27278747]\nasdgkhadfsadsfh ahdfjopfdaphaf... [76.41941799]\nveng doesnt know how to zone t... [9.67947877]\naxe i eat you no axxe 2vs5 how... [17.82001513]\nwow... [15.54812209]\nfuck yourself quit bye bye zeu... [99.41117248]\ngood game recomend please... [9.53466983]\nahahha shut the fuck up moron... [99.23569986]\nlove you lots wrong person eas... [9.58739533]\ngood game ahahhahaha holy shit... [66.06882081]\nthese bashes laughing out loud... [19.00069224]\ngood game wrong person report ... [3.05054062]\nnice bkb easy week easy mid ea... [50.68210408]\nwrong person d problems this i... [10.78912473]\ni missed the hill laughing out... [21.27178988]\nreally you fucks tards stupid ... [99.75563575]\nok retard... [60.52397509]\nwhat a player wowwwww... [12.11322155]\ngo next nice... [10.9510291]\nsorry... [8.75931925]\ngot to love to see your underl... [99.99999998]\nfucking danny ayy i don't know... [99.9887376]\nlet the faggot be happy with h... [99.8864853]\ngreat so sad 5k kill laughing ... [90.71240042]\nextreme droll xdd you are fuck... [99.98771521]\naway from keyboard sorry viper... [5.76966732]\njust leave... [14.74605023]\nnot our fault you have lag goo... [8.37365771]\ndon't first blood me aol insta... [18.73141096]\nparent looking can you give me... [4.97967651]\nyes sure but my teammates wont... [28.67296723]\nfarming lord am... [8.62820353]\nyou can end pudge away from ke... [14.41303397]\nlelelel thank you for boot lel... [8.69713914]\nextreme droll report alche ple... [6.15763398]\nnice supports someone who is n... [34.07705215]\nxfd extreme droll report alche... [8.98851439]\nwhat boost laughing out loud i... [82.61209064]\nnice boost how many did he pai... [15.81623111]\nwow i got a kill while 2v1 mus... [15.44336843]\ngood game was fun... [8.16836382]\nhaha sven hate me hahaha ahhah... [31.14533011]\nsomeone who is new kick ass la... [65.69904693]\nso easy easy jungle haha... [18.68203399]\nskill brother account buyer... [13.35900521]\nput that wards... [12.09560444]\nlaughing out loud ayyyyy yooo ... [14.90689043]\ngood game you guys were winnin... [4.23164697]\ndon't listen to him... [13.77722532]\nfuck this team... [83.82376283]\nwho mid extreme droll bait lau... [42.01751769]\nmagnus you have some mana 4 me... [12.09560444]\nyooo love you lots wrong perso... [22.11558587]\nat a price of fb idiot laughin... [80.42784158]\nyou are so bad sf dickhead... [57.14986573]\nrolling on the floor laughing... [16.73859775]\nancient by the way hahaa why s... [7.67808405]\nhow are you so high mmr fiend ... [15.88408823]\nyou suck me cocky good game ea... [48.88712504]\ngood game mid report mid repor... [0.28791186]\ngood game no0 tea good game no... [1.48162067]\neasy mid mid laughing out loud... [62.81197329]\ngod techies makes the game bor... [14.34159014]\nwhat the fuck ahah ahha aol in... [84.29026803]\nluigi stream sniper techies go... [39.85805352]\nplease i begging you report vo... [8.73973697]\nnice team good game axaxa oh m... [11.23761453]\nyear old where the fuck is sno... [75.02628019]\nno just other route good game ... [9.18748212]\nwas a pleasure 1v4 mid though ... [9.29541834]\nhappy new year good game... [6.94237521]\nrotated 2 players top and you ... [5.00173135]\nclose game good game... [7.25485445]\ndude i see you good game good ... [12.36258055]\nwhat the fuck oh right true si... [67.31385838]\ngege lets go pats... [12.38812092]\nsorry switch off my cheats uno... [7.1690119]\nstop cheat ulty 0 dmg screensh... [24.11335183]\nman down calling emergency per... [17.00721927]\nabort abort finger you to deat... [21.69598074]\ni did not see you finger me to... [16.94030735]\nfucking someone who is new her... [69.43645169]\nwhat do you want its only turb... [65.40562525]\ngood game and i don't care and... [91.723446]\nend professional they... [8.51652182]\nget leaver have feeder huh lik... [12.64488514]\ngood luck have fun please don'... [97.03395246]\nscript for what there are scri... [8.96790536]\nenigma script test nice cheat... [8.55513619]\nmeow damn now they know there ... [46.72572644]\n4 bot wait... [11.82794089]\nblinlk up what kind of vision ... [5.54878485]\npussies sorry... [61.28175904]\nhe survived relax... [17.23882424]\nmiss click laughing out loud i... [99.72556879]\nloool fuck you life good game... [85.85666235]\nokay feelsbadman 4what ok extr... [1.02139768]\nlower you guys 3 top but did n... [10.08486812]\npangolier mid feeder hardlane ... [48.11295433]\nfirst pick by the way... [8.15355796]\nlaughing out loud slardar good... [19.31997598]\nsad carry... [12.38903368]\nsad lel why mad brother... [22.05914094]\nthank you what the fuck is wit... [79.36796607]\nwrong person nice try... [11.06231484]\nyou okay don't know its best f... [9.65854482]\ng delay shit can i recon not a... [76.68840149]\ngo end mid you can do it necro... [8.33227488]\nthey speak taco they cant unde... [99.99543954]\nis only game you guys literall... [99.98719828]\ni am pa oh damn i want me some... [30.97163045]\ni mean he isnt grossly incande... [2.75732786]\ncan you guys report lc please ... [2.97197329]\nreport drow 50 minute lc farm ... [5.73427299]\nsnipers don't come better than... [7.83314739]\nwrong person wew not cool try ... [40.62993616]\nhi pudge oh you really there s... [73.93897182]\nwhat the fuck really this is j... [97.3625825]\noh my god its really happening... [11.37057221]\nshdow demon carry... [15.16293315]\nlaughing out loud why even try... [17.83255834]\nokay wrong person bloody hell ... [63.98113678]\ngood game end just end this ga... [93.94769672]\nextreme droll roifl io mid is ... [4.957322]\nprank thank you brother this q... [8.0137214]\nmy fucking tide running he not... [99.62032193]\nsame like you end love you lot... [3.63271161]\ncan we guys together report ou... [5.50891984]\nno desire to play go end... [12.09946926]\nnice hook easy pudge easyy hah... [99.90905707]\nhaha laughing out loud haha fa... [84.9476245]\nlaughing out loud you got 1877... [13.20133901]\nworth losing to herald brother... [97.95471591]\njust shut up fucking guardian ... [99.44743226]\nlaughing out loud get off my p... [95.72645309]\nbots play better you know... [13.63133587]\nahahahahah insert coin game ov... [12.00910018]\ndon't attack my twrs please en... [100.]\ncommend kill more call me good... [29.49299482]\nis there a point to these pred... [6.0889514]\nthats all it otok one curse an... [50.82077988]\npay to win gege... [11.84398807]\ngood game end team no definite... [5.1691125]\nthats how we roll kamehameha g... [2.84974736]\nreally what the good game ahah... [8.59409868]\ng good game ls just report ls ... [95.68227641]\nend please pick pho as offlane... [25.00280426]\nis this game serious this game... [67.67863801]\nwait... [12.22468434]\nwait i pee wait... [18.50868828]\nlag... [10.32281534]\nthis is undying... [12.09560444]\nso lucky sick wardtrap what th... [92.0744518]\nhow often are you going to sui... [40.96454033]\nrip farm he h he had a hard la... [53.1234886]\nyou had so much luck 100 chanc... [80.61319627]\nno carry sim... [10.66278396]\ngood game monkey blocks my hoo... [26.08952784]\nrolling on the floor laughing ... [18.63332476]\nyoure no difference sure pick ... [11.52897111]\nend please end thank you... [5.11378036]\nhghaha useless allies do i cal... [19.05254695]\neasy i see medusa mid i see lo... [7.76274665]\nwow good game well-played cpem... [5.06573393]\ndon't be worry we have god fat... [11.90254673]\ncommend me thank you thank you... [4.87212806]\ngood luck have fun 3 ten dota ... [85.75608086]\nno sound no mine blows up okay... [13.09445908]\nreport rubick please report su... [10.37615386]\nthank you reporta shaman e rub... [8.16722929]\nif you could speak that am awa... [12.5995414]\nbullshit nice keep farming lik... [98.48303096]\nfury lycan boiys run... [14.81217046]\nrolling on the floor laughing ... [14.85864697]\nursa is goo dmid though i have... [7.68010348]\nstop look at this line up and ... [71.78985584]\nwhat happened the picks were f... [4.50812987]\njust end ursa just end rolling... [90.45840557]\neveryone throw toys out pram a... [7.58599198]\ni mjust going to sit in base t... [99.84393847]\nstorm failed mid to ursa and h... [89.25849585]\nno problem our sf is totaly au... [13.75136521]\nnoobs always goes core friendl... [5.34297343]\ngood luck get fucked go back l... [99.88941998]\nyeah don't look at the week pl... [13.1578104]\nwow cool 0 0 good game easy pa... [99.98715979]\nck you need to study half your... [43.91174234]\ng feed done mid pussy g base p... [99.99999889]\nhave fun lads sorry guys... [7.96856212]\nnice feed top trol and spectra... [10.40125337]\naw hyahha aw what the fuck goo... [85.48378635]\ncome on guys 3v1 really how do... [36.38730662]\nminced brother good game well-... [6.20766165]\ngood game never 1st spec again... [8.83305923]\nwe are late game... [11.04601122]\nwhy you play whis shit heroes ... [99.95266567]\ngege they don't have buyback g... [12.06201153]\ni screenshot one hit next luck... [8.96589917]\ninstant message tilted assface... [16.82168827]\nnice carry husk... [9.65802973]\nill out retard your feed don't... [81.16981338]\nlaughing out loud i get it jes... [24.97941305]\nlet me repick please liar peni... [24.28875492]\nhe said keyboard issues wait p... [8.17566852]\nretards versus feeders laughin... [55.85343622]\ngood game now we get to see th... [78.06010014]\nwhy team kill hes good... [32.47639992]\nhaha hes good haha... [25.26853831]\nsad... [14.14843308]\nhahah let suck dick carry let ... [99.99999934]\nnoobs... [12.09560444]\nshould i stay or should i go n... [14.0912508]\nnice combo reported just becau... [9.96539025]\ngood game tide builld 2 hits r... [7.51446856]\nnice one am said no support so... [8.37852018]\ncome rampage... [14.79453747]\nlaughing out loud all of us no... [99.99516692]\ngood game report am so someone... [6.44503814]\nno tango gamer tang inang pudg... [27.68299047]\ngood game no support so good g... [4.00432283]\nnice comming thanks again call... [6.04209962]\nlaughing out loud good game we... [7.15490374]\nthank you 4 waiting g... [8.29531143]\npress j change weather wait la... [9.19141388]\nlaughing out loud rec wait wai... [99.22412941]\npress j for glyph of fortifica... [12.61708972]\nhell hell i don't know laughin... [81.20564093]\ninstant message cancer what th... [93.67051695]\ngood game team mates hhhhaha w... [9.5083475]\nclick xdddddddddd nice venge d... [3.04725917]\nzip zap fuck you am wow wooooo... [96.36794648]\nwhat are we supposed to do wit... [6.94218097]\nour spec run away when war wit... [11.41322685]\nlel didnt know that thought fl... [15.47617804]\nbest thing about it is that ou... [54.90585178]\nreport ursa thank you go fuck ... [79.60908141]\nblood last pick versus over do... [98.75500397]\nsaid the monkey picker d good ... [13.49578955]\nhaha good hero extreme droll i... [84.41388833]\ninstant message herald in my h... [9.27800102]\nthat stick lion felt bad right... [16.87876847]\nhow are these ranks equal end... [5.64180083]\n180 niiice ahaqha lose mid in ... [9.94987114]\npush instant message away from... [16.3240143]\nrage worth it haha good game t... [15.29339307]\nwhy almost every game for me p... [10.73643728]\ntry hard laughing out loud... [20.40344314]\ngo mid fast all mid we wont de... [8.96841449]\nafker 30 second no response i ... [10.17640329]\nrepor repor repor okay i don't... [7.01910423]\nyou forgot the t what are you ... [6.1248419]\ngood game wrong person report ... [7.6329118]\nwow really dude if you don't w... [25.17919248]\nmy team doesnt deserve to get ... [19.46778003]\ntinker dude the other team doe... [88.79640608]\ni like how my team saying how ... [31.31697602]\nit fucked me more than you rag... [73.14205292]\nhe says he will be right back ... [79.62649516]\nreally fuck you stop please yo... [99.68809409]\ni will show this game to all m... [51.53836209]\ncan win let us end fast... [7.63667619]\nwrong person parent looking ok... [3.26438246]\ndon't care over dose wait plea... [5.76443413]\nii will rap you moron you are ... [85.24260881]\ngo finish come guys we wait... [19.41939235]\nand report tinker report tinke... [10.37615386]\ngood game wrong person laughin... [94.39542391]\nnever pick my rune again bitch... [99.99108693]\nlaughing out loud have fun boy... [13.85677447]\nwho wants to live forever clan... [84.57111633]\nthere can only be one good luc... [80.88246752]\nnow the natures buys right cli... [75.93531218]\nlaughing my fucking ass off la... [98.28855354]\nand i wasnt there good game ca... [77.72130636]\ngood game well-played i commen... [85.11737445]\nwhy me rubick poor me haha giv... [24.16679039]\nwait for ward cant touch this ... [4.99290701]\nactually kunka who doesnt have... [94.52063843]\nreport lich for cyring please ... [16.48287575]\ngood game now what shoud i do ... [4.72851151]\ni you suck push kids push luck... [43.16904461]\nyou don't need to focus on me ... [13.54050541]\nokay someone who is new lc use... [20.89570852]\nreport luny thank you or no yo... [6.26336717]\nlel huh calm lady boy owakowak... [29.28692576]\nwhy rage when you just win 1k... [14.62772975]\ncongratulations wew 5 man kill... [63.02940656]\nwell all what i can say i wish... [6.92040675]\nwe w8ed your fucking weaver ha... [96.02338208]\nfuck you 3x monkeys pudge lock... [99.79973672]\nwhy you ban berd is my berd pl... [6.25278902]\nwhat the fuck halsennnnnnnnnnn... [99.01746844]\ngood luck get fucked good game... [53.57103704]\neng my bad brain dead how long... [99.15115884]\nwait my puck have lag... [10.43704529]\ndon't kill me i will commend c... [23.68317429]\nkid over shoulder omak i agree... [93.94101459]\n24 armor level 14 hero balance... [3.94016228]\nthis is called balance i hate ... [88.38605576]\ni see yeah fucking hell nmmice... [79.65960966]\ncross torrent please today ooo... [9.30721478]\n"
    }
   ],
   "source": [
    "#Bad or Insult words classification dari kata setelah preprocessing dengan profanity checker\n",
    "for i in range(len(all_words_no_punc_slangs)):\n",
    "    print(all_words_no_punc_slangs[i][0:30]+\"...\", predict_prob([all_words_no_punc_slangs[i]])*100)"
   ]
  },
  {
   "cell_type": "code",
   "execution_count": null,
   "metadata": {},
   "outputs": [],
   "source": []
  }
 ],
 "metadata": {
  "kernelspec": {
   "display_name": "Python 3",
   "language": "python",
   "name": "python3"
  },
  "language_info": {
   "codemirror_mode": {
    "name": "ipython",
    "version": 3
   },
   "file_extension": ".py",
   "mimetype": "text/x-python",
   "name": "python",
   "nbconvert_exporter": "python",
   "pygments_lexer": "ipython3",
   "version": "3.7.6-final"
  }
 },
 "nbformat": 4,
 "nbformat_minor": 4
}