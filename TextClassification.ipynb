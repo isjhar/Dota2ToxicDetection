{
 "cells": [
  {
   "cell_type": "markdown",
   "metadata": {},
   "source": [
    "<title>Toxic Player Detection Dota 2</title>"
   ]
  },
  {
   "cell_type": "code",
   "execution_count": 25,
   "metadata": {},
   "outputs": [
    {
     "name": "stderr",
     "output_type": "stream",
     "text": [
      "[nltk_data] Downloading package punkt to\n",
      "[nltk_data]     C:\\Users\\isjha\\AppData\\Roaming\\nltk_data...\n",
      "[nltk_data]   Package punkt is already up-to-date!\n"
     ]
    }
   ],
   "source": [
    "import pandas as pd\n",
    "import nltk\n",
    "from nltk.tokenize import sent_tokenize\n",
    "from nltk.tokenize import word_tokenize\n",
    "from nltk.tokenize import RegexpTokenizer\n",
    "from sklearn.model_selection import train_test_split\n",
    "import gensim\n",
    "import numpy as np\n",
    "import matplotlib.pyplot as plt\n",
    "from tensorflow.keras import backend as K\n",
    "from tensorflow.keras.models import Sequential\n",
    "from tensorflow.keras.layers import Embedding, LSTM, Dropout, Dense, Bidirectional\n",
    "from tensorflow.keras.preprocessing.sequence import pad_sequences\n",
    "from tensorflow.keras.preprocessing.text import Tokenizer\n",
    "from tensorflow.keras.preprocessing.text import text_to_word_sequence\n",
    "from tensorflow.keras.utils import to_categorical\n",
    "import pickle\n",
    "\n",
    "nltk.download('punkt')\n",
    "\n",
    "SEQUENCE_LENGTH = 100\n",
    "EMBEDDING_SIZE = 100\n",
    "BATCH_SIZE = 64\n",
    "PAD_WORD = \"__PAD__\"\n",
    "WORD_EMBEDDING_FILE = 'word_embedding.csv'\n",
    "TOKENIZER_FILE = 'tokenizer.pickle'\n",
    "\n",
    "\n",
    "def recall_m(y_true, y_pred):\n",
    "    true_positives = K.sum(K.round(K.clip(y_true * y_pred, 0, 1)))\n",
    "    possible_positives = K.sum(K.round(K.clip(y_true, 0, 1)))\n",
    "    recall = true_positives / (possible_positives + K.epsilon())\n",
    "    return recall\n",
    "\n",
    "def precision_m(y_true, y_pred):\n",
    "    true_positives = K.sum(K.round(K.clip(y_true * y_pred, 0, 1)))\n",
    "    predicted_positives = K.sum(K.round(K.clip(y_pred, 0, 1)))\n",
    "    precision = true_positives / (predicted_positives + K.epsilon())\n",
    "    return precision\n",
    "\n",
    "def f1_m(y_true, y_pred):\n",
    "    precision = precision_m(y_true, y_pred)\n",
    "    recall = recall_m(y_true, y_pred)\n",
    "    return 2*((precision*recall)/(precision+recall+K.epsilon()))"
   ]
  },
  {
   "cell_type": "markdown",
   "metadata": {},
   "source": [
    "<h1>Preprocess Raw Data</h1>"
   ]
  },
  {
   "cell_type": "code",
   "execution_count": 9,
   "metadata": {},
   "outputs": [
    {
     "data": {
      "text/html": [
       "<div>\n",
       "<style scoped>\n",
       "    .dataframe tbody tr th:only-of-type {\n",
       "        vertical-align: middle;\n",
       "    }\n",
       "\n",
       "    .dataframe tbody tr th {\n",
       "        vertical-align: top;\n",
       "    }\n",
       "\n",
       "    .dataframe thead th {\n",
       "        text-align: right;\n",
       "    }\n",
       "</style>\n",
       "<table border=\"1\" class=\"dataframe\">\n",
       "  <thead>\n",
       "    <tr style=\"text-align: right;\">\n",
       "      <th></th>\n",
       "      <th>match</th>\n",
       "      <th>slot</th>\n",
       "      <th>text</th>\n",
       "    </tr>\n",
       "  </thead>\n",
       "  <tbody>\n",
       "    <tr>\n",
       "      <td>0</td>\n",
       "      <td>0</td>\n",
       "      <td>9</td>\n",
       "      <td>ладно гг</td>\n",
       "    </tr>\n",
       "    <tr>\n",
       "      <td>1</td>\n",
       "      <td>0</td>\n",
       "      <td>9</td>\n",
       "      <td>изи</td>\n",
       "    </tr>\n",
       "    <tr>\n",
       "      <td>2</td>\n",
       "      <td>0</td>\n",
       "      <td>9</td>\n",
       "      <td>од</td>\n",
       "    </tr>\n",
       "    <tr>\n",
       "      <td>3</td>\n",
       "      <td>0</td>\n",
       "      <td>9</td>\n",
       "      <td>ебаный</td>\n",
       "    </tr>\n",
       "    <tr>\n",
       "      <td>4</td>\n",
       "      <td>0</td>\n",
       "      <td>9</td>\n",
       "      <td>мусор на войде</td>\n",
       "    </tr>\n",
       "    <tr>\n",
       "      <td>5</td>\n",
       "      <td>0</td>\n",
       "      <td>9</td>\n",
       "      <td>мусор</td>\n",
       "    </tr>\n",
       "    <tr>\n",
       "      <td>6</td>\n",
       "      <td>0</td>\n",
       "      <td>9</td>\n",
       "      <td>на войде</td>\n",
       "    </tr>\n",
       "    <tr>\n",
       "      <td>7</td>\n",
       "      <td>0</td>\n",
       "      <td>9</td>\n",
       "      <td>репорт</td>\n",
       "    </tr>\n",
       "    <tr>\n",
       "      <td>8</td>\n",
       "      <td>0</td>\n",
       "      <td>9</td>\n",
       "      <td>100%</td>\n",
       "    </tr>\n",
       "    <tr>\n",
       "      <td>9</td>\n",
       "      <td>1</td>\n",
       "      <td>0</td>\n",
       "      <td>twitch.tv/rage_channel</td>\n",
       "    </tr>\n",
       "  </tbody>\n",
       "</table>\n",
       "</div>"
      ],
      "text/plain": [
       "   match  slot                    text\n",
       "0      0     9               ладно гг \n",
       "1      0     9                     изи\n",
       "2      0     9                      од\n",
       "3      0     9                  ебаный\n",
       "4      0     9          мусор на войде\n",
       "5      0     9                  мусор \n",
       "6      0     9                на войде\n",
       "7      0     9                  репорт\n",
       "8      0     9                    100%\n",
       "9      1     0  twitch.tv/rage_channel"
      ]
     },
     "execution_count": 9,
     "metadata": {},
     "output_type": "execute_result"
    }
   ],
   "source": [
    "data = pd.read_csv(\"dota2_chat_messages.csv\", encoding=\"utf_8\", usecols=[\"match\", \"slot\", \"text\"])\n",
    "data = data.astype({\"match\": int, \"slot\": int, \"text\": str})\n",
    "data.head(10)"
   ]
  },
  {
   "cell_type": "code",
   "execution_count": 14,
   "metadata": {},
   "outputs": [
    {
     "data": {
      "text/plain": [
       "match  slot\n",
       "0      9       ладно гг . изи. од. ебаный. мусор на войде. му...\n",
       "1      0       twitch.tv/rage_channel. https://www.twitch.tv/...\n",
       "       4       где даша?. даша домой. долбоеб сука на дизрапторе\n",
       "       6       даун с 1 тычки забашил . шок . стример харду с...\n",
       "       7                                   2 даша подряд . баша \n",
       "       8                                                     )))\n",
       "2      0       yes dog. yeah . fast and furious. too fas. hah...\n",
       "       2                               no idiot. we too pro. lol\n",
       "       4                                HAHAH. COMMEND ME TY. EZ\n",
       "       6                                              carry. lul\n",
       "Name: text, dtype: object"
      ]
     },
     "execution_count": 14,
     "metadata": {},
     "output_type": "execute_result"
    }
   ],
   "source": [
    "data = data.groupby(['match', 'slot'])['text'].apply('. '.join)\n",
    "data.reset_index()\n",
    "data.head(10)"
   ]
  },
  {
   "cell_type": "code",
   "execution_count": 15,
   "metadata": {},
   "outputs": [
    {
     "data": {
      "text/html": [
       "<div>\n",
       "<style scoped>\n",
       "    .dataframe tbody tr th:only-of-type {\n",
       "        vertical-align: middle;\n",
       "    }\n",
       "\n",
       "    .dataframe tbody tr th {\n",
       "        vertical-align: top;\n",
       "    }\n",
       "\n",
       "    .dataframe thead th {\n",
       "        text-align: right;\n",
       "    }\n",
       "</style>\n",
       "<table border=\"1\" class=\"dataframe\">\n",
       "  <thead>\n",
       "    <tr style=\"text-align: right;\">\n",
       "      <th></th>\n",
       "      <th>match</th>\n",
       "      <th>slot</th>\n",
       "      <th>text</th>\n",
       "    </tr>\n",
       "  </thead>\n",
       "  <tbody>\n",
       "    <tr>\n",
       "      <td>0</td>\n",
       "      <td>0</td>\n",
       "      <td>9</td>\n",
       "      <td>ладно гг . изи. од. ебаный. мусор на войде. му...</td>\n",
       "    </tr>\n",
       "    <tr>\n",
       "      <td>1</td>\n",
       "      <td>1</td>\n",
       "      <td>0</td>\n",
       "      <td>twitch.tv/rage_channel. https://www.twitch.tv/...</td>\n",
       "    </tr>\n",
       "    <tr>\n",
       "      <td>2</td>\n",
       "      <td>1</td>\n",
       "      <td>4</td>\n",
       "      <td>где даша?. даша домой. долбоеб сука на дизрапторе</td>\n",
       "    </tr>\n",
       "    <tr>\n",
       "      <td>3</td>\n",
       "      <td>1</td>\n",
       "      <td>6</td>\n",
       "      <td>даун с 1 тычки забашил . шок . стример харду с...</td>\n",
       "    </tr>\n",
       "    <tr>\n",
       "      <td>4</td>\n",
       "      <td>1</td>\n",
       "      <td>7</td>\n",
       "      <td>2 даша подряд . баша</td>\n",
       "    </tr>\n",
       "    <tr>\n",
       "      <td>5</td>\n",
       "      <td>1</td>\n",
       "      <td>8</td>\n",
       "      <td>)))</td>\n",
       "    </tr>\n",
       "    <tr>\n",
       "      <td>6</td>\n",
       "      <td>2</td>\n",
       "      <td>0</td>\n",
       "      <td>yes dog. yeah . fast and furious. too fas. hah...</td>\n",
       "    </tr>\n",
       "    <tr>\n",
       "      <td>7</td>\n",
       "      <td>2</td>\n",
       "      <td>2</td>\n",
       "      <td>no idiot. we too pro. lol</td>\n",
       "    </tr>\n",
       "    <tr>\n",
       "      <td>8</td>\n",
       "      <td>2</td>\n",
       "      <td>4</td>\n",
       "      <td>HAHAH. COMMEND ME TY. EZ</td>\n",
       "    </tr>\n",
       "    <tr>\n",
       "      <td>9</td>\n",
       "      <td>2</td>\n",
       "      <td>6</td>\n",
       "      <td>carry. lul</td>\n",
       "    </tr>\n",
       "  </tbody>\n",
       "</table>\n",
       "</div>"
      ],
      "text/plain": [
       "   match  slot                                               text\n",
       "0      0     9  ладно гг . изи. од. ебаный. мусор на войде. му...\n",
       "1      1     0  twitch.tv/rage_channel. https://www.twitch.tv/...\n",
       "2      1     4  где даша?. даша домой. долбоеб сука на дизрапторе\n",
       "3      1     6  даун с 1 тычки забашил . шок . стример харду с...\n",
       "4      1     7                              2 даша подряд . баша \n",
       "5      1     8                                                )))\n",
       "6      2     0  yes dog. yeah . fast and furious. too fas. hah...\n",
       "7      2     2                          no idiot. we too pro. lol\n",
       "8      2     4                           HAHAH. COMMEND ME TY. EZ\n",
       "9      2     6                                         carry. lul"
      ]
     },
     "execution_count": 15,
     "metadata": {},
     "output_type": "execute_result"
    }
   ],
   "source": [
    "data = data.reset_index()\n",
    "data.head(10)"
   ]
  },
  {
   "cell_type": "code",
   "execution_count": 17,
   "metadata": {},
   "outputs": [],
   "source": [
    "data.to_csv(\"dota2_chat_joined.csv\")"
   ]
  },
  {
   "cell_type": "code",
   "execution_count": 18,
   "metadata": {},
   "outputs": [
    {
     "data": {
      "text/html": [
       "<div>\n",
       "<style scoped>\n",
       "    .dataframe tbody tr th:only-of-type {\n",
       "        vertical-align: middle;\n",
       "    }\n",
       "\n",
       "    .dataframe tbody tr th {\n",
       "        vertical-align: top;\n",
       "    }\n",
       "\n",
       "    .dataframe thead th {\n",
       "        text-align: right;\n",
       "    }\n",
       "</style>\n",
       "<table border=\"1\" class=\"dataframe\">\n",
       "  <thead>\n",
       "    <tr style=\"text-align: right;\">\n",
       "      <th></th>\n",
       "      <th>match</th>\n",
       "      <th>slot</th>\n",
       "    </tr>\n",
       "  </thead>\n",
       "  <tbody>\n",
       "    <tr>\n",
       "      <td>count</td>\n",
       "      <td>4.747547e+06</td>\n",
       "      <td>4.747547e+06</td>\n",
       "    </tr>\n",
       "    <tr>\n",
       "      <td>mean</td>\n",
       "      <td>4.999057e+05</td>\n",
       "      <td>4.493503e+00</td>\n",
       "    </tr>\n",
       "    <tr>\n",
       "      <td>std</td>\n",
       "      <td>2.887862e+05</td>\n",
       "      <td>2.873926e+00</td>\n",
       "    </tr>\n",
       "    <tr>\n",
       "      <td>min</td>\n",
       "      <td>0.000000e+00</td>\n",
       "      <td>0.000000e+00</td>\n",
       "    </tr>\n",
       "    <tr>\n",
       "      <td>25%</td>\n",
       "      <td>2.497860e+05</td>\n",
       "      <td>2.000000e+00</td>\n",
       "    </tr>\n",
       "    <tr>\n",
       "      <td>50%</td>\n",
       "      <td>4.999710e+05</td>\n",
       "      <td>5.000000e+00</td>\n",
       "    </tr>\n",
       "    <tr>\n",
       "      <td>75%</td>\n",
       "      <td>7.500870e+05</td>\n",
       "      <td>7.000000e+00</td>\n",
       "    </tr>\n",
       "    <tr>\n",
       "      <td>max</td>\n",
       "      <td>9.999990e+05</td>\n",
       "      <td>9.000000e+00</td>\n",
       "    </tr>\n",
       "  </tbody>\n",
       "</table>\n",
       "</div>"
      ],
      "text/plain": [
       "              match          slot\n",
       "count  4.747547e+06  4.747547e+06\n",
       "mean   4.999057e+05  4.493503e+00\n",
       "std    2.887862e+05  2.873926e+00\n",
       "min    0.000000e+00  0.000000e+00\n",
       "25%    2.497860e+05  2.000000e+00\n",
       "50%    4.999710e+05  5.000000e+00\n",
       "75%    7.500870e+05  7.000000e+00\n",
       "max    9.999990e+05  9.000000e+00"
      ]
     },
     "execution_count": 18,
     "metadata": {},
     "output_type": "execute_result"
    }
   ],
   "source": [
    "data.describe()"
   ]
  },
  {
   "cell_type": "markdown",
   "metadata": {},
   "source": [
    "<h1>Classification</h1>"
   ]
  },
  {
   "cell_type": "code",
   "execution_count": 3,
   "metadata": {},
   "outputs": [],
   "source": [
    "#load word embedding\n",
    "word_embedding = np.loadtxt(WORD_EMBEDDING_FILE, delimiter=',')\n",
    "#load tokenizer \n",
    "with open(TOKENIZER_FILE, 'rb') as handle:\n",
    "    tokenizer = pickle.load(handle)"
   ]
  },
  {
   "cell_type": "code",
   "execution_count": 4,
   "metadata": {},
   "outputs": [
    {
     "data": {
      "text/plain": [
       "0    319\n",
       "1    164\n",
       "Name: category, dtype: int64"
      ]
     },
     "execution_count": 4,
     "metadata": {},
     "output_type": "execute_result"
    }
   ],
   "source": [
    "data = pd.read_csv(\"dota2_chat_final.csv\", encoding=\"latin_1\", usecols=[\"category\", \"match\", \"slot\", \"text\"])\n",
    "data[\"category\"].value_counts()"
   ]
  },
  {
   "cell_type": "code",
   "execution_count": 5,
   "metadata": {},
   "outputs": [
    {
     "data": {
      "text/html": [
       "<div>\n",
       "<style scoped>\n",
       "    .dataframe tbody tr th:only-of-type {\n",
       "        vertical-align: middle;\n",
       "    }\n",
       "\n",
       "    .dataframe tbody tr th {\n",
       "        vertical-align: top;\n",
       "    }\n",
       "\n",
       "    .dataframe thead th {\n",
       "        text-align: right;\n",
       "    }\n",
       "</style>\n",
       "<table border=\"1\" class=\"dataframe\">\n",
       "  <thead>\n",
       "    <tr style=\"text-align: right;\">\n",
       "      <th></th>\n",
       "      <th>category</th>\n",
       "      <th>match</th>\n",
       "      <th>slot</th>\n",
       "      <th>text</th>\n",
       "    </tr>\n",
       "  </thead>\n",
       "  <tbody>\n",
       "    <tr>\n",
       "      <td>0</td>\n",
       "      <td>0</td>\n",
       "      <td>2</td>\n",
       "      <td>0</td>\n",
       "      <td>yes dog. yeah . fast and furious. too fas. hah...</td>\n",
       "    </tr>\n",
       "    <tr>\n",
       "      <td>1</td>\n",
       "      <td>0</td>\n",
       "      <td>2</td>\n",
       "      <td>2</td>\n",
       "      <td>no idiot. we too pro. lol</td>\n",
       "    </tr>\n",
       "    <tr>\n",
       "      <td>2</td>\n",
       "      <td>1</td>\n",
       "      <td>2</td>\n",
       "      <td>4</td>\n",
       "      <td>HAHAH. COMMEND ME TY. EZ</td>\n",
       "    </tr>\n",
       "    <tr>\n",
       "      <td>3</td>\n",
       "      <td>1</td>\n",
       "      <td>6</td>\n",
       "      <td>0</td>\n",
       "      <td>so ya mama likes dick ehh?. figures. ur not ev...</td>\n",
       "    </tr>\n",
       "    <tr>\n",
       "      <td>4</td>\n",
       "      <td>1</td>\n",
       "      <td>6</td>\n",
       "      <td>1</td>\n",
       "      <td>reprot. SAD. fucking reported axe. WORST HOOK ...</td>\n",
       "    </tr>\n",
       "  </tbody>\n",
       "</table>\n",
       "</div>"
      ],
      "text/plain": [
       "   category  match  slot                                               text\n",
       "0         0      2     0  yes dog. yeah . fast and furious. too fas. hah...\n",
       "1         0      2     2                          no idiot. we too pro. lol\n",
       "2         1      2     4                           HAHAH. COMMEND ME TY. EZ\n",
       "3         1      6     0  so ya mama likes dick ehh?. figures. ur not ev...\n",
       "4         1      6     1  reprot. SAD. fucking reported axe. WORST HOOK ..."
      ]
     },
     "execution_count": 5,
     "metadata": {},
     "output_type": "execute_result"
    }
   ],
   "source": [
    "data.head()"
   ]
  },
  {
   "cell_type": "code",
   "execution_count": 6,
   "metadata": {},
   "outputs": [],
   "source": [
    "X_raw = data.drop(columns=['category', 'match', 'slot']).to_numpy().flatten()\n",
    "y_raw = data.drop(columns=['text', 'match', 'slot']).to_numpy().flatten()"
   ]
  },
  {
   "cell_type": "code",
   "execution_count": 7,
   "metadata": {},
   "outputs": [],
   "source": [
    "def is_match(X1, X2):\n",
    "    for i in range(len(X1)):\n",
    "        arr1 = X1[i]\n",
    "        arr2 = X2[i]\n",
    "        if(len(arr1) != len(arr2)):\n",
    "            print(i)\n",
    "            return False\n",
    "    return True"
   ]
  },
  {
   "cell_type": "code",
   "execution_count": 8,
   "metadata": {},
   "outputs": [],
   "source": [
    "X = tokenizer.texts_to_sequences(X_raw)\n",
    "y = to_categorical(y_raw)"
   ]
  },
  {
   "cell_type": "code",
   "execution_count": 9,
   "metadata": {},
   "outputs": [
    {
     "data": {
      "text/plain": [
       "[145, 59, 163, 117, 14, 999, 130, 1000, 27, 71]"
      ]
     },
     "execution_count": 9,
     "metadata": {},
     "output_type": "execute_result"
    }
   ],
   "source": [
    "X[0]"
   ]
  },
  {
   "cell_type": "code",
   "execution_count": 10,
   "metadata": {},
   "outputs": [
    {
     "data": {
      "text/plain": [
       "['k at didnt plz a paid an while end hahaha']"
      ]
     },
     "execution_count": 10,
     "metadata": {},
     "output_type": "execute_result"
    }
   ],
   "source": [
    "tokenizer.sequences_to_texts([[231, 66, 174, 114, 13, 771, 175, 772, 19, 92]])"
   ]
  },
  {
   "cell_type": "code",
   "execution_count": 11,
   "metadata": {},
   "outputs": [
    {
     "data": {
      "image/png": "[encoded data removed]",
      "text/plain": [
       "<Figure size 432x288 with 1 Axes>"
      ]
     },
     "metadata": {
      "needs_background": "light"
     },
     "output_type": "display_data"
    }
   ],
   "source": [
    "words = []\n",
    "[words.extend(sentence) for sentence in X]\n",
    "freqdist = nltk.FreqDist(words)\n",
    "x_plot = [freqdist[word] for word in words]\n",
    "\n",
    "# the histogram of the data\n",
    "n, bins, patches = plt.hist(x_plot, 50, density=1, facecolor='g', alpha=0.75)\n",
    "\n",
    "\n",
    "plt.xlabel('FreqDist')\n",
    "plt.ylabel('Probability')\n",
    "plt.title('Histogram of IQ')\n",
    "plt.axis([min(x_plot)-10, max(x_plot)+ 10, 0, 0.1])\n",
    "plt.grid(True)\n",
    "plt.show()"
   ]
  },
  {
   "cell_type": "code",
   "execution_count": 12,
   "metadata": {},
   "outputs": [],
   "source": [
    "X_padded = pad_sequences(X, maxlen=SEQUENCE_LENGTH, padding='post', value=0)"
   ]
  },
  {
   "cell_type": "code",
   "execution_count": 13,
   "metadata": {},
   "outputs": [],
   "source": [
    "X_train, X_test, y_train, y_test = train_test_split(X_padded, y, test_size=0.3, random_state=42)"
   ]
  },
  {
   "cell_type": "markdown",
   "metadata": {},
   "source": [
    "<h1>Validation Test</h1>"
   ]
  },
  {
   "cell_type": "code",
   "execution_count": 14,
   "metadata": {},
   "outputs": [
    {
     "data": {
      "text/plain": [
       "(2365, 100)"
      ]
     },
     "execution_count": 14,
     "metadata": {},
     "output_type": "execute_result"
    }
   ],
   "source": [
    "word_embedding.shape"
   ]
  },
  {
   "cell_type": "markdown",
   "metadata": {},
   "source": [
    "<h2>LSTM</h2>"
   ]
  },
  {
   "cell_type": "code",
   "execution_count": 18,
   "metadata": {},
   "outputs": [
    {
     "name": "stdout",
     "output_type": "stream",
     "text": [
      "Model: \"sequential_1\"\n",
      "_________________________________________________________________\n",
      "Layer (type)                 Output Shape              Param #   \n",
      "=================================================================\n",
      "embedding_1 (Embedding)      (None, 100, 100)          236500    \n",
      "_________________________________________________________________\n",
      "lstm_1 (LSTM)                (None, 128)               117248    \n",
      "_________________________________________________________________\n",
      "dropout_1 (Dropout)          (None, 128)               0         \n",
      "_________________________________________________________________\n",
      "dense_1 (Dense)              (None, 2)                 258       \n",
      "=================================================================\n",
      "Total params: 354,006\n",
      "Trainable params: 117,506\n",
      "Non-trainable params: 236,500\n",
      "_________________________________________________________________\n"
     ]
    }
   ],
   "source": [
    "model_val = Sequential()\n",
    "model_val.add(Embedding(\n",
    "    input_dim=len(tokenizer.word_index)+1, \n",
    "    output_dim=EMBEDDING_SIZE, \n",
    "    input_length=SEQUENCE_LENGTH, \n",
    "    weights=[word_embedding],\n",
    "    trainable=False))\n",
    "model_val.add(LSTM(128, recurrent_dropout=0.2))\n",
    "model_val.add(Dropout(0.3))\n",
    "model_val.add(Dense(2, activation=\"softmax\"))\n",
    "# compile as rmsprop optimizer\n",
    "# aswell as with recall metric\n",
    "model_val.compile(optimizer=\"rmsprop\", loss=\"categorical_crossentropy\", \n",
    "      metrics=[\"accuracy\", f1_m])\n",
    "model_val.summary()"
   ]
  },
  {
   "cell_type": "code",
   "execution_count": 19,
   "metadata": {},
   "outputs": [
    {
     "name": "stdout",
     "output_type": "stream",
     "text": [
      "Train on 303 samples, validate on 131 samples\n",
      "Epoch 1/100\n",
      "303/303 [==============================] - 3s 10ms/sample - loss: 0.8714 - accuracy: 0.6634 - f1_m: 0.6195 - val_loss: 0.5846 - val_accuracy: 0.6870 - val_f1_m: 0.6806\n",
      "Epoch 2/100\n",
      "303/303 [==============================] - 1s 4ms/sample - loss: 0.5412 - accuracy: 0.7426 - f1_m: 0.7461 - val_loss: 0.5415 - val_accuracy: 0.7099 - val_f1_m: 0.8021\n",
      "Epoch 3/100\n",
      "303/303 [==============================] - 1s 4ms/sample - loss: 0.5324 - accuracy: 0.7327 - f1_m: 0.7356 - val_loss: 0.4948 - val_accuracy: 0.7176 - val_f1_m: 0.8073\n",
      "Epoch 4/100\n",
      "303/303 [==============================] - 1s 4ms/sample - loss: 0.5289 - accuracy: 0.7327 - f1_m: 0.7311 - val_loss: 0.5005 - val_accuracy: 0.7557 - val_f1_m: 0.8333\n",
      "Epoch 5/100\n",
      "303/303 [==============================] - 1s 4ms/sample - loss: 0.5340 - accuracy: 0.7261 - f1_m: 0.7271 - val_loss: 0.5557 - val_accuracy: 0.7023 - val_f1_m: 0.6910\n",
      "Epoch 6/100\n",
      "303/303 [==============================] - 1s 4ms/sample - loss: 0.5382 - accuracy: 0.7360 - f1_m: 0.7364 - val_loss: 0.5405 - val_accuracy: 0.7176 - val_f1_m: 0.8073\n",
      "Epoch 7/100\n",
      "303/303 [==============================] - 1s 4ms/sample - loss: 0.5229 - accuracy: 0.7426 - f1_m: 0.7449 - val_loss: 0.5179 - val_accuracy: 0.7176 - val_f1_m: 0.8073\n",
      "Epoch 8/100\n",
      "303/303 [==============================] - 1s 4ms/sample - loss: 0.5882 - accuracy: 0.6766 - f1_m: 0.6768 - val_loss: 0.5711 - val_accuracy: 0.6870 - val_f1_m: 0.6806\n",
      "Epoch 9/100\n",
      "303/303 [==============================] - 1s 4ms/sample - loss: 0.5464 - accuracy: 0.7030 - f1_m: 0.7007 - val_loss: 0.5157 - val_accuracy: 0.7099 - val_f1_m: 0.8021\n",
      "Epoch 10/100\n",
      "303/303 [==============================] - 1s 4ms/sample - loss: 0.5442 - accuracy: 0.6931 - f1_m: 0.6981 - val_loss: 0.5433 - val_accuracy: 0.7023 - val_f1_m: 0.6910\n",
      "Epoch 11/100\n",
      "303/303 [==============================] - 1s 4ms/sample - loss: 0.5413 - accuracy: 0.7261 - f1_m: 0.7237 - val_loss: 0.5103 - val_accuracy: 0.7099 - val_f1_m: 0.8021\n",
      "Epoch 12/100\n",
      "303/303 [==============================] - 1s 4ms/sample - loss: 0.5281 - accuracy: 0.7558 - f1_m: 0.7541 - val_loss: 0.5246 - val_accuracy: 0.7176 - val_f1_m: 0.8073\n",
      "Epoch 13/100\n",
      "303/303 [==============================] - 1s 4ms/sample - loss: 0.5369 - accuracy: 0.7360 - f1_m: 0.7342 - val_loss: 0.5126 - val_accuracy: 0.7328 - val_f1_m: 0.8177\n",
      "Epoch 14/100\n",
      "303/303 [==============================] - 1s 4ms/sample - loss: 0.5612 - accuracy: 0.7030 - f1_m: 0.7029 - val_loss: 0.5763 - val_accuracy: 0.6870 - val_f1_m: 0.6806\n",
      "Epoch 15/100\n",
      "303/303 [==============================] - 1s 4ms/sample - loss: 0.5422 - accuracy: 0.7096 - f1_m: 0.7103 - val_loss: 0.5063 - val_accuracy: 0.7176 - val_f1_m: 0.8073\n",
      "Epoch 16/100\n",
      "303/303 [==============================] - 1s 4ms/sample - loss: 0.5245 - accuracy: 0.7393 - f1_m: 0.7407 - val_loss: 0.4990 - val_accuracy: 0.7099 - val_f1_m: 0.8021\n",
      "Epoch 17/100\n",
      "303/303 [==============================] - 1s 4ms/sample - loss: 0.5147 - accuracy: 0.7096 - f1_m: 0.7126 - val_loss: 0.5352 - val_accuracy: 0.7023 - val_f1_m: 0.6910\n",
      "Epoch 18/100\n",
      "303/303 [==============================] - 1s 4ms/sample - loss: 0.5241 - accuracy: 0.7228 - f1_m: 0.7239 - val_loss: 0.5700 - val_accuracy: 0.7023 - val_f1_m: 0.6910\n",
      "Epoch 19/100\n",
      "303/303 [==============================] - 1s 4ms/sample - loss: 0.5611 - accuracy: 0.7228 - f1_m: 0.7273 - val_loss: 0.5086 - val_accuracy: 0.7099 - val_f1_m: 0.8021\n",
      "Epoch 20/100\n",
      "303/303 [==============================] - 1s 4ms/sample - loss: 0.5305 - accuracy: 0.7129 - f1_m: 0.7134 - val_loss: 0.5437 - val_accuracy: 0.7023 - val_f1_m: 0.6910\n",
      "Epoch 21/100\n",
      "303/303 [==============================] - 1s 4ms/sample - loss: 0.5627 - accuracy: 0.7294 - f1_m: 0.7245 - val_loss: 0.5370 - val_accuracy: 0.8015 - val_f1_m: 0.8646\n",
      "Epoch 22/100\n",
      "303/303 [==============================] - 1s 4ms/sample - loss: 0.5346 - accuracy: 0.7162 - f1_m: 0.7154 - val_loss: 0.4971 - val_accuracy: 0.7710 - val_f1_m: 0.8438\n",
      "Epoch 23/100\n",
      "303/303 [==============================] - 1s 4ms/sample - loss: 0.5297 - accuracy: 0.7129 - f1_m: 0.7100 - val_loss: 0.4965 - val_accuracy: 0.7099 - val_f1_m: 0.8021\n",
      "Epoch 24/100\n",
      "303/303 [==============================] - 1s 4ms/sample - loss: 0.5019 - accuracy: 0.7624 - f1_m: 0.7614 - val_loss: 0.4864 - val_accuracy: 0.8092 - val_f1_m: 0.8698\n",
      "Epoch 25/100\n",
      "303/303 [==============================] - 1s 4ms/sample - loss: 0.5515 - accuracy: 0.7195 - f1_m: 0.7265 - val_loss: 0.4932 - val_accuracy: 0.7481 - val_f1_m: 0.8281\n",
      "Epoch 26/100\n",
      "303/303 [==============================] - 1s 4ms/sample - loss: 0.5117 - accuracy: 0.7129 - f1_m: 0.7146 - val_loss: 0.5270 - val_accuracy: 0.7176 - val_f1_m: 0.8073\n",
      "Epoch 27/100\n",
      "303/303 [==============================] - 1s 4ms/sample - loss: 0.5256 - accuracy: 0.7492 - f1_m: 0.7467 - val_loss: 0.5366 - val_accuracy: 0.7176 - val_f1_m: 0.8073\n",
      "Epoch 28/100\n",
      "303/303 [==============================] - 1s 4ms/sample - loss: 0.5073 - accuracy: 0.7492 - f1_m: 0.7535 - val_loss: 0.5023 - val_accuracy: 0.7176 - val_f1_m: 0.8073\n",
      "Epoch 29/100\n",
      "303/303 [==============================] - 1s 4ms/sample - loss: 0.5574 - accuracy: 0.6964 - f1_m: 0.6967 - val_loss: 0.5171 - val_accuracy: 0.7099 - val_f1_m: 0.8021\n",
      "Epoch 30/100\n",
      "303/303 [==============================] - 1s 4ms/sample - loss: 0.5085 - accuracy: 0.7393 - f1_m: 0.7384 - val_loss: 0.5093 - val_accuracy: 0.7099 - val_f1_m: 0.8021\n",
      "Epoch 31/100\n",
      "303/303 [==============================] - 1s 4ms/sample - loss: 0.5001 - accuracy: 0.7657 - f1_m: 0.7668 - val_loss: 0.4973 - val_accuracy: 0.7099 - val_f1_m: 0.8021\n",
      "Epoch 32/100\n",
      "303/303 [==============================] - 1s 4ms/sample - loss: 0.5310 - accuracy: 0.7459 - f1_m: 0.7503 - val_loss: 0.4999 - val_accuracy: 0.7099 - val_f1_m: 0.8021\n",
      "Epoch 33/100\n",
      "303/303 [==============================] - 1s 4ms/sample - loss: 0.5112 - accuracy: 0.7624 - f1_m: 0.7626 - val_loss: 0.5048 - val_accuracy: 0.8168 - val_f1_m: 0.8750\n",
      "Epoch 34/100\n",
      "303/303 [==============================] - 1s 4ms/sample - loss: 0.5257 - accuracy: 0.7591 - f1_m: 0.7628 - val_loss: 0.5046 - val_accuracy: 0.7099 - val_f1_m: 0.8021\n",
      "Epoch 35/100\n",
      "303/303 [==============================] - 1s 4ms/sample - loss: 0.5181 - accuracy: 0.7459 - f1_m: 0.7515 - val_loss: 0.5291 - val_accuracy: 0.7176 - val_f1_m: 0.8073\n",
      "Epoch 36/100\n",
      "303/303 [==============================] - 1s 4ms/sample - loss: 0.4991 - accuracy: 0.7558 - f1_m: 0.7541 - val_loss: 0.5313 - val_accuracy: 0.7099 - val_f1_m: 0.8021\n",
      "Epoch 37/100\n",
      "303/303 [==============================] - 1s 4ms/sample - loss: 0.5200 - accuracy: 0.7624 - f1_m: 0.7637 - val_loss: 0.5083 - val_accuracy: 0.7176 - val_f1_m: 0.8073\n",
      "Epoch 38/100\n",
      "303/303 [==============================] - 1s 4ms/sample - loss: 0.4936 - accuracy: 0.7525 - f1_m: 0.7543 - val_loss: 0.5017 - val_accuracy: 0.7099 - val_f1_m: 0.8021\n",
      "Epoch 39/100\n",
      "303/303 [==============================] - 1s 4ms/sample - loss: 0.5294 - accuracy: 0.7096 - f1_m: 0.7126 - val_loss: 0.5473 - val_accuracy: 0.7939 - val_f1_m: 0.8594\n",
      "Epoch 40/100\n",
      "303/303 [==============================] - 1s 4ms/sample - loss: 0.5285 - accuracy: 0.7327 - f1_m: 0.7356 - val_loss: 0.4833 - val_accuracy: 0.7786 - val_f1_m: 0.8490\n",
      "Epoch 41/100\n",
      "303/303 [==============================] - 1s 4ms/sample - loss: 0.5192 - accuracy: 0.7657 - f1_m: 0.7668 - val_loss: 0.5013 - val_accuracy: 0.7176 - val_f1_m: 0.8073\n",
      "Epoch 42/100\n",
      "303/303 [==============================] - 1s 4ms/sample - loss: 0.5124 - accuracy: 0.7492 - f1_m: 0.7467 - val_loss: 0.4756 - val_accuracy: 0.8168 - val_f1_m: 0.8750\n",
      "Epoch 43/100\n",
      "303/303 [==============================] - 1s 4ms/sample - loss: 0.4991 - accuracy: 0.7591 - f1_m: 0.7583 - val_loss: 0.5023 - val_accuracy: 0.7176 - val_f1_m: 0.8073\n",
      "Epoch 44/100\n",
      "303/303 [==============================] - 1s 4ms/sample - loss: 0.4980 - accuracy: 0.7756 - f1_m: 0.7739 - val_loss: 0.4932 - val_accuracy: 0.8244 - val_f1_m: 0.8802\n",
      "Epoch 45/100\n",
      "303/303 [==============================] - 1s 4ms/sample - loss: 0.5289 - accuracy: 0.7426 - f1_m: 0.7438 - val_loss: 0.4766 - val_accuracy: 0.8092 - val_f1_m: 0.8698\n",
      "Epoch 46/100\n",
      "303/303 [==============================] - 1s 4ms/sample - loss: 0.5152 - accuracy: 0.7591 - f1_m: 0.7617 - val_loss: 0.4873 - val_accuracy: 0.7634 - val_f1_m: 0.8385\n",
      "Epoch 47/100\n",
      "303/303 [==============================] - 1s 4ms/sample - loss: 0.5246 - accuracy: 0.7195 - f1_m: 0.7231 - val_loss: 0.4823 - val_accuracy: 0.7710 - val_f1_m: 0.8438\n",
      "Epoch 48/100\n",
      "303/303 [==============================] - 1s 4ms/sample - loss: 0.4937 - accuracy: 0.7822 - f1_m: 0.7779 - val_loss: 0.4821 - val_accuracy: 0.8168 - val_f1_m: 0.8750\n",
      "Epoch 49/100\n",
      "303/303 [==============================] - 1s 4ms/sample - loss: 0.5197 - accuracy: 0.7261 - f1_m: 0.7191 - val_loss: 0.4905 - val_accuracy: 0.7176 - val_f1_m: 0.8073\n",
      "Epoch 50/100\n",
      "303/303 [==============================] - 1s 4ms/sample - loss: 0.5154 - accuracy: 0.7690 - f1_m: 0.7699 - val_loss: 0.4911 - val_accuracy: 0.7176 - val_f1_m: 0.8073\n",
      "Epoch 51/100\n",
      "303/303 [==============================] - 1s 4ms/sample - loss: 0.4977 - accuracy: 0.7723 - f1_m: 0.7719 - val_loss: 0.4986 - val_accuracy: 0.7481 - val_f1_m: 0.8281\n",
      "Epoch 52/100\n",
      "303/303 [==============================] - 1s 4ms/sample - loss: 0.5048 - accuracy: 0.7723 - f1_m: 0.7776 - val_loss: 0.5124 - val_accuracy: 0.7634 - val_f1_m: 0.8385\n",
      "Epoch 53/100\n",
      "303/303 [==============================] - 1s 4ms/sample - loss: 0.4948 - accuracy: 0.7558 - f1_m: 0.7529 - val_loss: 0.4782 - val_accuracy: 0.7786 - val_f1_m: 0.8490\n",
      "Epoch 54/100\n",
      "303/303 [==============================] - 1s 4ms/sample - loss: 0.5253 - accuracy: 0.7723 - f1_m: 0.7663 - val_loss: 0.5018 - val_accuracy: 0.7634 - val_f1_m: 0.8385\n",
      "Epoch 55/100\n",
      "303/303 [==============================] - 1s 4ms/sample - loss: 0.5206 - accuracy: 0.7558 - f1_m: 0.7563 - val_loss: 0.4870 - val_accuracy: 0.7481 - val_f1_m: 0.8281\n",
      "Epoch 56/100\n",
      "303/303 [==============================] - 1s 4ms/sample - loss: 0.4862 - accuracy: 0.7789 - f1_m: 0.7782 - val_loss: 0.4776 - val_accuracy: 0.7710 - val_f1_m: 0.8438\n",
      "Epoch 57/100\n",
      "303/303 [==============================] - 1s 4ms/sample - loss: 0.4840 - accuracy: 0.7756 - f1_m: 0.7739 - val_loss: 0.4716 - val_accuracy: 0.8015 - val_f1_m: 0.8646\n",
      "Epoch 58/100\n",
      "303/303 [==============================] - 1s 4ms/sample - loss: 0.5002 - accuracy: 0.7789 - f1_m: 0.7805 - val_loss: 0.4717 - val_accuracy: 0.8015 - val_f1_m: 0.8646\n",
      "Epoch 59/100\n",
      "303/303 [==============================] - 1s 4ms/sample - loss: 0.4934 - accuracy: 0.7690 - f1_m: 0.7699 - val_loss: 0.4814 - val_accuracy: 0.7634 - val_f1_m: 0.8385\n",
      "Epoch 60/100\n",
      "303/303 [==============================] - 1s 4ms/sample - loss: 0.5049 - accuracy: 0.7624 - f1_m: 0.7648 - val_loss: 0.4712 - val_accuracy: 0.8015 - val_f1_m: 0.8646\n",
      "Epoch 61/100\n",
      "303/303 [==============================] - 1s 4ms/sample - loss: 0.4815 - accuracy: 0.7756 - f1_m: 0.7728 - val_loss: 0.4783 - val_accuracy: 0.7710 - val_f1_m: 0.8438\n",
      "Epoch 62/100\n",
      "303/303 [==============================] - 1s 4ms/sample - loss: 0.5203 - accuracy: 0.7591 - f1_m: 0.7572 - val_loss: 0.5036 - val_accuracy: 0.7481 - val_f1_m: 0.8281\n",
      "Epoch 63/100\n",
      "303/303 [==============================] - 1s 4ms/sample - loss: 0.4893 - accuracy: 0.7756 - f1_m: 0.7762 - val_loss: 0.4882 - val_accuracy: 0.7710 - val_f1_m: 0.8438\n",
      "Epoch 64/100\n",
      "303/303 [==============================] - 1s 4ms/sample - loss: 0.5145 - accuracy: 0.7294 - f1_m: 0.7347 - val_loss: 0.5036 - val_accuracy: 0.7710 - val_f1_m: 0.8438\n",
      "Epoch 65/100\n",
      "303/303 [==============================] - 1s 4ms/sample - loss: 0.5259 - accuracy: 0.7591 - f1_m: 0.7583 - val_loss: 0.4801 - val_accuracy: 0.7634 - val_f1_m: 0.8385\n",
      "Epoch 66/100\n",
      "303/303 [==============================] - 1s 4ms/sample - loss: 0.4846 - accuracy: 0.7756 - f1_m: 0.7717 - val_loss: 0.4707 - val_accuracy: 0.8321 - val_f1_m: 0.8854\n",
      "Epoch 67/100\n",
      "303/303 [==============================] - 1s 4ms/sample - loss: 0.5009 - accuracy: 0.7690 - f1_m: 0.7666 - val_loss: 0.4745 - val_accuracy: 0.8015 - val_f1_m: 0.8646\n",
      "Epoch 68/100\n",
      "303/303 [==============================] - 1s 4ms/sample - loss: 0.4868 - accuracy: 0.7591 - f1_m: 0.7527 - val_loss: 0.5093 - val_accuracy: 0.7481 - val_f1_m: 0.8281\n",
      "Epoch 69/100\n",
      "303/303 [==============================] - 1s 4ms/sample - loss: 0.5022 - accuracy: 0.7558 - f1_m: 0.7495 - val_loss: 0.4823 - val_accuracy: 0.7481 - val_f1_m: 0.8281\n",
      "Epoch 70/100\n",
      "303/303 [==============================] - 1s 4ms/sample - loss: 0.4867 - accuracy: 0.7657 - f1_m: 0.7612 - val_loss: 0.4932 - val_accuracy: 0.7786 - val_f1_m: 0.8490\n",
      "Epoch 71/100\n",
      "303/303 [==============================] - 1s 4ms/sample - loss: 0.4822 - accuracy: 0.7855 - f1_m: 0.7833 - val_loss: 0.4876 - val_accuracy: 0.7405 - val_f1_m: 0.8229\n",
      "Epoch 72/100\n",
      "303/303 [==============================] - 1s 4ms/sample - loss: 0.4890 - accuracy: 0.7690 - f1_m: 0.7722 - val_loss: 0.5636 - val_accuracy: 0.7176 - val_f1_m: 0.8073\n",
      "Epoch 73/100\n",
      "303/303 [==============================] - 1s 4ms/sample - loss: 0.4950 - accuracy: 0.7525 - f1_m: 0.7509 - val_loss: 0.4917 - val_accuracy: 0.7557 - val_f1_m: 0.8333\n",
      "Epoch 74/100\n",
      "303/303 [==============================] - 1s 4ms/sample - loss: 0.4781 - accuracy: 0.7624 - f1_m: 0.7637 - val_loss: 0.4820 - val_accuracy: 0.8168 - val_f1_m: 0.8750\n",
      "Epoch 75/100\n",
      "303/303 [==============================] - 1s 4ms/sample - loss: 0.5102 - accuracy: 0.7591 - f1_m: 0.7572 - val_loss: 0.5025 - val_accuracy: 0.7710 - val_f1_m: 0.8438\n",
      "Epoch 76/100\n",
      "303/303 [==============================] - 1s 4ms/sample - loss: 0.4928 - accuracy: 0.7525 - f1_m: 0.7521 - val_loss: 0.4871 - val_accuracy: 0.7710 - val_f1_m: 0.8438\n",
      "Epoch 77/100\n",
      "303/303 [==============================] - 1s 4ms/sample - loss: 0.5138 - accuracy: 0.7591 - f1_m: 0.7583 - val_loss: 0.4732 - val_accuracy: 0.8015 - val_f1_m: 0.8646\n",
      "Epoch 78/100\n",
      "303/303 [==============================] - 1s 4ms/sample - loss: 0.5098 - accuracy: 0.7591 - f1_m: 0.7628 - val_loss: 0.4729 - val_accuracy: 0.8092 - val_f1_m: 0.8698\n",
      "Epoch 79/100\n",
      "303/303 [==============================] - 1s 4ms/sample - loss: 0.5028 - accuracy: 0.7756 - f1_m: 0.7694 - val_loss: 0.5037 - val_accuracy: 0.8015 - val_f1_m: 0.8646\n",
      "Epoch 80/100\n",
      "303/303 [==============================] - 1s 4ms/sample - loss: 0.5031 - accuracy: 0.7624 - f1_m: 0.7614 - val_loss: 0.4878 - val_accuracy: 0.7405 - val_f1_m: 0.8229\n",
      "Epoch 81/100\n",
      "303/303 [==============================] - 1s 4ms/sample - loss: 0.5018 - accuracy: 0.7492 - f1_m: 0.7512 - val_loss: 0.4990 - val_accuracy: 0.7176 - val_f1_m: 0.8073\n",
      "Epoch 82/100\n",
      "303/303 [==============================] - 1s 4ms/sample - loss: 0.4927 - accuracy: 0.7756 - f1_m: 0.7739 - val_loss: 0.4709 - val_accuracy: 0.8015 - val_f1_m: 0.8646\n",
      "Epoch 83/100\n",
      "303/303 [==============================] - 1s 4ms/sample - loss: 0.4947 - accuracy: 0.7690 - f1_m: 0.7699 - val_loss: 0.4765 - val_accuracy: 0.7710 - val_f1_m: 0.8438\n",
      "Epoch 84/100\n",
      "303/303 [==============================] - 1s 4ms/sample - loss: 0.4953 - accuracy: 0.7822 - f1_m: 0.7802 - val_loss: 0.4858 - val_accuracy: 0.7481 - val_f1_m: 0.8281\n",
      "Epoch 85/100\n",
      "303/303 [==============================] - 1s 4ms/sample - loss: 0.4772 - accuracy: 0.7756 - f1_m: 0.7717 - val_loss: 0.4692 - val_accuracy: 0.8244 - val_f1_m: 0.8802\n",
      "Epoch 86/100\n",
      "303/303 [==============================] - 1s 4ms/sample - loss: 0.5028 - accuracy: 0.7657 - f1_m: 0.7680 - val_loss: 0.4754 - val_accuracy: 0.8015 - val_f1_m: 0.8646\n",
      "Epoch 87/100\n",
      "303/303 [==============================] - 1s 4ms/sample - loss: 0.4998 - accuracy: 0.7657 - f1_m: 0.7623 - val_loss: 0.4785 - val_accuracy: 0.7710 - val_f1_m: 0.8438\n",
      "Epoch 88/100\n",
      "303/303 [==============================] - 1s 4ms/sample - loss: 0.5001 - accuracy: 0.7888 - f1_m: 0.7887 - val_loss: 0.4913 - val_accuracy: 0.7328 - val_f1_m: 0.8177\n",
      "Epoch 89/100\n",
      "303/303 [==============================] - 1s 4ms/sample - loss: 0.5026 - accuracy: 0.7789 - f1_m: 0.7838 - val_loss: 0.4753 - val_accuracy: 0.7863 - val_f1_m: 0.8542\n",
      "Epoch 90/100\n",
      "303/303 [==============================] - 1s 4ms/sample - loss: 0.4792 - accuracy: 0.7723 - f1_m: 0.7708 - val_loss: 0.4888 - val_accuracy: 0.8015 - val_f1_m: 0.8646\n",
      "Epoch 91/100\n"
     ]
    },
    {
     "name": "stdout",
     "output_type": "stream",
     "text": [
      "303/303 [==============================] - 1s 4ms/sample - loss: 0.5126 - accuracy: 0.7558 - f1_m: 0.7552 - val_loss: 0.4803 - val_accuracy: 0.7786 - val_f1_m: 0.8490\n",
      "Epoch 92/100\n",
      "303/303 [==============================] - 1s 4ms/sample - loss: 0.5030 - accuracy: 0.7492 - f1_m: 0.7501 - val_loss: 0.4962 - val_accuracy: 0.7176 - val_f1_m: 0.8073\n",
      "Epoch 93/100\n",
      "303/303 [==============================] - 1s 4ms/sample - loss: 0.4999 - accuracy: 0.7921 - f1_m: 0.7918 - val_loss: 0.4797 - val_accuracy: 0.8015 - val_f1_m: 0.8646\n",
      "Epoch 94/100\n",
      "303/303 [==============================] - 1s 4ms/sample - loss: 0.5078 - accuracy: 0.7525 - f1_m: 0.7475 - val_loss: 0.4888 - val_accuracy: 0.8092 - val_f1_m: 0.8698\n",
      "Epoch 95/100\n",
      "303/303 [==============================] - 1s 4ms/sample - loss: 0.4869 - accuracy: 0.7558 - f1_m: 0.7529 - val_loss: 0.4781 - val_accuracy: 0.7710 - val_f1_m: 0.8438\n",
      "Epoch 96/100\n",
      "303/303 [==============================] - 1s 4ms/sample - loss: 0.5035 - accuracy: 0.7789 - f1_m: 0.7748 - val_loss: 0.5157 - val_accuracy: 0.8015 - val_f1_m: 0.8646\n",
      "Epoch 97/100\n",
      "303/303 [==============================] - 1s 4ms/sample - loss: 0.5090 - accuracy: 0.7426 - f1_m: 0.7461 - val_loss: 0.4956 - val_accuracy: 0.7710 - val_f1_m: 0.8438\n",
      "Epoch 98/100\n",
      "303/303 [==============================] - 1s 4ms/sample - loss: 0.4958 - accuracy: 0.7756 - f1_m: 0.7773 - val_loss: 0.4833 - val_accuracy: 0.7710 - val_f1_m: 0.8438\n",
      "Epoch 99/100\n",
      "303/303 [==============================] - 1s 4ms/sample - loss: 0.4926 - accuracy: 0.7756 - f1_m: 0.7739 - val_loss: 0.4999 - val_accuracy: 0.7939 - val_f1_m: 0.8594\n",
      "Epoch 100/100\n",
      "303/303 [==============================] - 1s 4ms/sample - loss: 0.4969 - accuracy: 0.7426 - f1_m: 0.7427 - val_loss: 0.4790 - val_accuracy: 0.7710 - val_f1_m: 0.8438\n"
     ]
    },
    {
     "data": {
      "text/plain": [
       "<tensorflow.python.keras.callbacks.History at 0x20ebbd98588>"
      ]
     },
     "execution_count": 19,
     "metadata": {},
     "output_type": "execute_result"
    }
   ],
   "source": [
    "model_val.fit(X_train, y_train, epochs=100, batch_size=64, shuffle=True, validation_split=0.3)"
   ]
  },
  {
   "cell_type": "code",
   "execution_count": 23,
   "metadata": {},
   "outputs": [
    {
     "name": "stdout",
     "output_type": "stream",
     "text": [
      "loss:  0.4738161335892392 , accuracy:  0.7718894 , f1 score:  0.7703372\n"
     ]
    }
   ],
   "source": [
    "loss, accuracy, f1_score = model_val.evaluate(X_train, y_train, verbose=0)\n",
    "print('loss: ', loss, ', accuracy: ', accuracy, ', f1 score: ', f1_score)"
   ]
  },
  {
   "cell_type": "markdown",
   "metadata": {},
   "source": [
    "<h2>Bidirectional LSTM</h2>"
   ]
  },
  {
   "cell_type": "code",
   "execution_count": 31,
   "metadata": {},
   "outputs": [
    {
     "name": "stdout",
     "output_type": "stream",
     "text": [
      "Model: \"sequential_5\"\n",
      "_________________________________________________________________\n",
      "Layer (type)                 Output Shape              Param #   \n",
      "=================================================================\n",
      "embedding_5 (Embedding)      (None, 100, 100)          236500    \n",
      "_________________________________________________________________\n",
      "bidirectional_2 (Bidirection (None, 256)               234496    \n",
      "_________________________________________________________________\n",
      "dropout_4 (Dropout)          (None, 256)               0         \n",
      "_________________________________________________________________\n",
      "dense_4 (Dense)              (None, 2)                 514       \n",
      "=================================================================\n",
      "Total params: 471,510\n",
      "Trainable params: 235,010\n",
      "Non-trainable params: 236,500\n",
      "_________________________________________________________________\n"
     ]
    }
   ],
   "source": [
    "model_2_val = Sequential()\n",
    "model_2_val.add(Embedding(\n",
    "    input_dim=len(tokenizer.word_index)+1, \n",
    "    output_dim=EMBEDDING_SIZE, \n",
    "    input_length=SEQUENCE_LENGTH, \n",
    "    weights=[word_embedding],\n",
    "    trainable=False))\n",
    "model_2_val.add(Bidirectional(LSTM(128)))\n",
    "model_2_val.add(Dropout(0.3))\n",
    "model_2_val.add(Dense(2, activation=\"softmax\"))\n",
    "# compile as rmsprop optimizer\n",
    "# aswell as with recall metric\n",
    "model_2_val.compile(optimizer=\"rmsprop\", loss=\"categorical_crossentropy\", \n",
    "      metrics=[\"accuracy\", f1_m])\n",
    "model_2_val.summary()"
   ]
  },
  {
   "cell_type": "code",
   "execution_count": 32,
   "metadata": {},
   "outputs": [
    {
     "name": "stdout",
     "output_type": "stream",
     "text": [
      "Train on 303 samples, validate on 131 samples\n",
      "Epoch 1/100\n",
      "303/303 [==============================] - 9s 31ms/sample - loss: 0.6701 - accuracy: 0.6271 - f1_m: 0.6277 - val_loss: 0.6299 - val_accuracy: 0.6947 - val_f1_m: 0.6858\n",
      "Epoch 2/100\n",
      "303/303 [==============================] - 1s 3ms/sample - loss: 0.6050 - accuracy: 0.7096 - f1_m: 0.7114 - val_loss: 0.5796 - val_accuracy: 0.6870 - val_f1_m: 0.6806\n",
      "Epoch 3/100\n",
      "303/303 [==============================] - 1s 3ms/sample - loss: 0.5704 - accuracy: 0.7261 - f1_m: 0.7259 - val_loss: 0.5286 - val_accuracy: 0.7863 - val_f1_m: 0.8542\n",
      "Epoch 4/100\n",
      "303/303 [==============================] - 1s 3ms/sample - loss: 0.5460 - accuracy: 0.7690 - f1_m: 0.7666 - val_loss: 0.5059 - val_accuracy: 0.8092 - val_f1_m: 0.8698\n",
      "Epoch 5/100\n",
      "303/303 [==============================] - 1s 3ms/sample - loss: 0.5237 - accuracy: 0.7558 - f1_m: 0.7563 - val_loss: 0.5029 - val_accuracy: 0.7786 - val_f1_m: 0.8490\n",
      "Epoch 6/100\n",
      "303/303 [==============================] - 1s 3ms/sample - loss: 0.5151 - accuracy: 0.7492 - f1_m: 0.7557 - val_loss: 0.5240 - val_accuracy: 0.7557 - val_f1_m: 0.8333\n",
      "Epoch 7/100\n",
      "303/303 [==============================] - 1s 3ms/sample - loss: 0.5179 - accuracy: 0.7690 - f1_m: 0.7699 - val_loss: 0.5047 - val_accuracy: 0.7786 - val_f1_m: 0.8490\n",
      "Epoch 8/100\n",
      "303/303 [==============================] - 1s 3ms/sample - loss: 0.5034 - accuracy: 0.7690 - f1_m: 0.7733 - val_loss: 0.4834 - val_accuracy: 0.8015 - val_f1_m: 0.8646\n",
      "Epoch 9/100\n",
      "303/303 [==============================] - 1s 3ms/sample - loss: 0.4951 - accuracy: 0.7822 - f1_m: 0.7847 - val_loss: 0.4823 - val_accuracy: 0.8092 - val_f1_m: 0.8698\n",
      "Epoch 10/100\n",
      "303/303 [==============================] - 1s 3ms/sample - loss: 0.4914 - accuracy: 0.7789 - f1_m: 0.7782 - val_loss: 0.5146 - val_accuracy: 0.7786 - val_f1_m: 0.8490\n",
      "Epoch 11/100\n",
      "303/303 [==============================] - 1s 3ms/sample - loss: 0.5076 - accuracy: 0.7426 - f1_m: 0.7427 - val_loss: 0.4932 - val_accuracy: 0.7939 - val_f1_m: 0.8594\n",
      "Epoch 12/100\n",
      "303/303 [==============================] - 1s 3ms/sample - loss: 0.5417 - accuracy: 0.7756 - f1_m: 0.7739 - val_loss: 0.4982 - val_accuracy: 0.7939 - val_f1_m: 0.8594\n",
      "Epoch 13/100\n",
      "303/303 [==============================] - 1s 3ms/sample - loss: 0.5073 - accuracy: 0.7558 - f1_m: 0.7574 - val_loss: 0.5207 - val_accuracy: 0.7405 - val_f1_m: 0.8229\n",
      "Epoch 14/100\n",
      "303/303 [==============================] - 1s 3ms/sample - loss: 0.5017 - accuracy: 0.7558 - f1_m: 0.7574 - val_loss: 0.4835 - val_accuracy: 0.7863 - val_f1_m: 0.8542\n",
      "Epoch 15/100\n",
      "303/303 [==============================] - 1s 3ms/sample - loss: 0.4931 - accuracy: 0.7888 - f1_m: 0.7887 - val_loss: 0.5017 - val_accuracy: 0.7786 - val_f1_m: 0.8490\n",
      "Epoch 16/100\n",
      "303/303 [==============================] - 1s 3ms/sample - loss: 0.4969 - accuracy: 0.7789 - f1_m: 0.7771 - val_loss: 0.4917 - val_accuracy: 0.7863 - val_f1_m: 0.8542\n",
      "Epoch 17/100\n",
      "303/303 [==============================] - 1s 3ms/sample - loss: 0.4819 - accuracy: 0.7591 - f1_m: 0.7538 - val_loss: 0.4819 - val_accuracy: 0.8168 - val_f1_m: 0.8750\n",
      "Epoch 18/100\n",
      "303/303 [==============================] - 1s 3ms/sample - loss: 0.4851 - accuracy: 0.7888 - f1_m: 0.7853 - val_loss: 0.4825 - val_accuracy: 0.7939 - val_f1_m: 0.8594\n",
      "Epoch 19/100\n",
      "303/303 [==============================] - 1s 3ms/sample - loss: 0.4801 - accuracy: 0.7855 - f1_m: 0.7878 - val_loss: 0.4777 - val_accuracy: 0.7863 - val_f1_m: 0.8542\n",
      "Epoch 20/100\n",
      "303/303 [==============================] - 1s 3ms/sample - loss: 0.4930 - accuracy: 0.7690 - f1_m: 0.7654 - val_loss: 0.5186 - val_accuracy: 0.7557 - val_f1_m: 0.8333\n",
      "Epoch 21/100\n",
      "303/303 [==============================] - 1s 3ms/sample - loss: 0.4912 - accuracy: 0.7789 - f1_m: 0.7838 - val_loss: 0.4991 - val_accuracy: 0.7939 - val_f1_m: 0.8594\n",
      "Epoch 22/100\n",
      "303/303 [==============================] - 1s 3ms/sample - loss: 0.4883 - accuracy: 0.7723 - f1_m: 0.7731 - val_loss: 0.4724 - val_accuracy: 0.8168 - val_f1_m: 0.8750\n",
      "Epoch 23/100\n",
      "303/303 [==============================] - 1s 3ms/sample - loss: 0.5080 - accuracy: 0.7591 - f1_m: 0.7561 - val_loss: 0.5212 - val_accuracy: 0.6718 - val_f1_m: 0.6701\n",
      "Epoch 24/100\n",
      "303/303 [==============================] - 1s 3ms/sample - loss: 0.4957 - accuracy: 0.7657 - f1_m: 0.7702 - val_loss: 0.4740 - val_accuracy: 0.8092 - val_f1_m: 0.8698\n",
      "Epoch 25/100\n",
      "303/303 [==============================] - 1s 3ms/sample - loss: 0.4795 - accuracy: 0.8020 - f1_m: 0.8080 - val_loss: 0.4734 - val_accuracy: 0.7863 - val_f1_m: 0.8542\n",
      "Epoch 26/100\n",
      "303/303 [==============================] - 1s 3ms/sample - loss: 0.4993 - accuracy: 0.7855 - f1_m: 0.7833 - val_loss: 0.5077 - val_accuracy: 0.7252 - val_f1_m: 0.8125\n",
      "Epoch 27/100\n",
      "303/303 [==============================] - 1s 3ms/sample - loss: 0.4893 - accuracy: 0.7591 - f1_m: 0.7606 - val_loss: 0.4748 - val_accuracy: 0.8015 - val_f1_m: 0.8646\n",
      "Epoch 28/100\n",
      "303/303 [==============================] - 1s 3ms/sample - loss: 0.4999 - accuracy: 0.7756 - f1_m: 0.7762 - val_loss: 0.4784 - val_accuracy: 0.7863 - val_f1_m: 0.8542\n",
      "Epoch 29/100\n",
      "303/303 [==============================] - 1s 3ms/sample - loss: 0.4948 - accuracy: 0.7690 - f1_m: 0.7654 - val_loss: 0.4769 - val_accuracy: 0.8015 - val_f1_m: 0.8646\n",
      "Epoch 30/100\n",
      "303/303 [==============================] - 1s 3ms/sample - loss: 0.4786 - accuracy: 0.7855 - f1_m: 0.7844 - val_loss: 0.4729 - val_accuracy: 0.7863 - val_f1_m: 0.8542\n",
      "Epoch 31/100\n",
      "303/303 [==============================] - 1s 3ms/sample - loss: 0.4864 - accuracy: 0.7888 - f1_m: 0.7864 - val_loss: 0.4828 - val_accuracy: 0.7939 - val_f1_m: 0.8594\n",
      "Epoch 32/100\n",
      "303/303 [==============================] - 1s 3ms/sample - loss: 0.4840 - accuracy: 0.7723 - f1_m: 0.7697 - val_loss: 0.4745 - val_accuracy: 0.8168 - val_f1_m: 0.8750\n",
      "Epoch 33/100\n",
      "303/303 [==============================] - 1s 3ms/sample - loss: 0.4789 - accuracy: 0.7855 - f1_m: 0.7856 - val_loss: 0.4742 - val_accuracy: 0.7939 - val_f1_m: 0.8594\n",
      "Epoch 34/100\n",
      "303/303 [==============================] - 1s 3ms/sample - loss: 0.4928 - accuracy: 0.7789 - f1_m: 0.7759 - val_loss: 0.4711 - val_accuracy: 0.8168 - val_f1_m: 0.8750\n",
      "Epoch 35/100\n",
      "303/303 [==============================] - 1s 3ms/sample - loss: 0.4894 - accuracy: 0.7789 - f1_m: 0.7771 - val_loss: 0.4807 - val_accuracy: 0.7863 - val_f1_m: 0.8542\n",
      "Epoch 36/100\n",
      "303/303 [==============================] - 1s 3ms/sample - loss: 0.4985 - accuracy: 0.7756 - f1_m: 0.7739 - val_loss: 0.4884 - val_accuracy: 0.7634 - val_f1_m: 0.8385\n",
      "Epoch 37/100\n",
      "303/303 [==============================] - 1s 3ms/sample - loss: 0.4840 - accuracy: 0.7591 - f1_m: 0.7561 - val_loss: 0.4770 - val_accuracy: 0.7939 - val_f1_m: 0.8594\n",
      "Epoch 38/100\n",
      "303/303 [==============================] - 1s 3ms/sample - loss: 0.4898 - accuracy: 0.7723 - f1_m: 0.7686 - val_loss: 0.4834 - val_accuracy: 0.7939 - val_f1_m: 0.8594\n",
      "Epoch 39/100\n",
      "303/303 [==============================] - 1s 3ms/sample - loss: 0.4957 - accuracy: 0.7855 - f1_m: 0.7890 - val_loss: 0.4699 - val_accuracy: 0.8092 - val_f1_m: 0.8698\n",
      "Epoch 40/100\n",
      "303/303 [==============================] - 1s 3ms/sample - loss: 0.5017 - accuracy: 0.7525 - f1_m: 0.7543 - val_loss: 0.4664 - val_accuracy: 0.7939 - val_f1_m: 0.8594\n",
      "Epoch 41/100\n",
      "303/303 [==============================] - 1s 3ms/sample - loss: 0.4892 - accuracy: 0.7921 - f1_m: 0.7963 - val_loss: 0.4642 - val_accuracy: 0.8015 - val_f1_m: 0.8646\n",
      "Epoch 42/100\n",
      "303/303 [==============================] - 1s 3ms/sample - loss: 0.5024 - accuracy: 0.7459 - f1_m: 0.7436 - val_loss: 0.4736 - val_accuracy: 0.8168 - val_f1_m: 0.8750\n",
      "Epoch 43/100\n",
      "303/303 [==============================] - 1s 3ms/sample - loss: 0.4798 - accuracy: 0.7789 - f1_m: 0.7771 - val_loss: 0.4747 - val_accuracy: 0.7939 - val_f1_m: 0.8594\n",
      "Epoch 44/100\n",
      "303/303 [==============================] - 1s 3ms/sample - loss: 0.4954 - accuracy: 0.7657 - f1_m: 0.7634 - val_loss: 0.4733 - val_accuracy: 0.7939 - val_f1_m: 0.8594\n",
      "Epoch 45/100\n",
      "303/303 [==============================] - 1s 3ms/sample - loss: 0.4819 - accuracy: 0.7756 - f1_m: 0.7762 - val_loss: 0.4643 - val_accuracy: 0.8015 - val_f1_m: 0.8646\n",
      "Epoch 46/100\n",
      "303/303 [==============================] - 1s 3ms/sample - loss: 0.4761 - accuracy: 0.7690 - f1_m: 0.7733 - val_loss: 0.4779 - val_accuracy: 0.7939 - val_f1_m: 0.8594\n",
      "Epoch 47/100\n",
      "303/303 [==============================] - 1s 3ms/sample - loss: 0.4747 - accuracy: 0.7822 - f1_m: 0.7824 - val_loss: 0.4671 - val_accuracy: 0.7939 - val_f1_m: 0.8594\n",
      "Epoch 48/100\n",
      "303/303 [==============================] - 1s 3ms/sample - loss: 0.5046 - accuracy: 0.7756 - f1_m: 0.7762 - val_loss: 0.4761 - val_accuracy: 0.7863 - val_f1_m: 0.8542\n",
      "Epoch 49/100\n",
      "303/303 [==============================] - 1s 3ms/sample - loss: 0.4867 - accuracy: 0.7657 - f1_m: 0.7657 - val_loss: 0.4693 - val_accuracy: 0.7863 - val_f1_m: 0.8542\n",
      "Epoch 50/100\n",
      "303/303 [==============================] - 1s 3ms/sample - loss: 0.4893 - accuracy: 0.7822 - f1_m: 0.7791 - val_loss: 0.5156 - val_accuracy: 0.7481 - val_f1_m: 0.8281\n",
      "Epoch 51/100\n",
      "303/303 [==============================] - 1s 3ms/sample - loss: 0.4807 - accuracy: 0.7723 - f1_m: 0.7719 - val_loss: 0.4711 - val_accuracy: 0.7939 - val_f1_m: 0.8594\n",
      "Epoch 52/100\n",
      "303/303 [==============================] - 1s 3ms/sample - loss: 0.4774 - accuracy: 0.7789 - f1_m: 0.7816 - val_loss: 0.4846 - val_accuracy: 0.7939 - val_f1_m: 0.8594\n",
      "Epoch 53/100\n",
      "303/303 [==============================] - 1s 3ms/sample - loss: 0.4887 - accuracy: 0.7855 - f1_m: 0.7811 - val_loss: 0.4764 - val_accuracy: 0.7939 - val_f1_m: 0.8594\n",
      "Epoch 54/100\n",
      "303/303 [==============================] - 1s 3ms/sample - loss: 0.4781 - accuracy: 0.7822 - f1_m: 0.7813 - val_loss: 0.4913 - val_accuracy: 0.7634 - val_f1_m: 0.8385\n",
      "Epoch 55/100\n",
      "303/303 [==============================] - 1s 3ms/sample - loss: 0.4956 - accuracy: 0.7723 - f1_m: 0.7753 - val_loss: 0.4808 - val_accuracy: 0.7863 - val_f1_m: 0.8542\n",
      "Epoch 56/100\n",
      "303/303 [==============================] - 1s 3ms/sample - loss: 0.4796 - accuracy: 0.7822 - f1_m: 0.7824 - val_loss: 0.4692 - val_accuracy: 0.8168 - val_f1_m: 0.8750\n",
      "Epoch 57/100\n",
      "303/303 [==============================] - 1s 3ms/sample - loss: 0.4767 - accuracy: 0.7822 - f1_m: 0.7813 - val_loss: 0.5050 - val_accuracy: 0.7405 - val_f1_m: 0.8229\n",
      "Epoch 58/100\n",
      "303/303 [==============================] - 1s 3ms/sample - loss: 0.4808 - accuracy: 0.7657 - f1_m: 0.7702 - val_loss: 0.4910 - val_accuracy: 0.7786 - val_f1_m: 0.8490\n",
      "Epoch 59/100\n",
      "303/303 [==============================] - 1s 3ms/sample - loss: 0.4969 - accuracy: 0.7690 - f1_m: 0.7666 - val_loss: 0.4695 - val_accuracy: 0.7939 - val_f1_m: 0.8594\n",
      "Epoch 60/100\n",
      "303/303 [==============================] - 1s 3ms/sample - loss: 0.4798 - accuracy: 0.7954 - f1_m: 0.7972 - val_loss: 0.4739 - val_accuracy: 0.7939 - val_f1_m: 0.8594\n",
      "Epoch 61/100\n",
      "303/303 [==============================] - 1s 3ms/sample - loss: 0.4704 - accuracy: 0.7822 - f1_m: 0.7836 - val_loss: 0.4692 - val_accuracy: 0.8168 - val_f1_m: 0.8750\n",
      "Epoch 62/100\n",
      "303/303 [==============================] - 1s 3ms/sample - loss: 0.4975 - accuracy: 0.7624 - f1_m: 0.7580 - val_loss: 0.4744 - val_accuracy: 0.8015 - val_f1_m: 0.8646\n",
      "Epoch 63/100\n",
      "303/303 [==============================] - 1s 3ms/sample - loss: 0.4768 - accuracy: 0.7822 - f1_m: 0.7813 - val_loss: 0.4721 - val_accuracy: 0.7863 - val_f1_m: 0.8542\n",
      "Epoch 64/100\n",
      "303/303 [==============================] - 1s 3ms/sample - loss: 0.4856 - accuracy: 0.7657 - f1_m: 0.7623 - val_loss: 0.4986 - val_accuracy: 0.7481 - val_f1_m: 0.8281\n",
      "Epoch 65/100\n",
      "303/303 [==============================] - 1s 3ms/sample - loss: 0.4758 - accuracy: 0.7723 - f1_m: 0.7742 - val_loss: 0.4680 - val_accuracy: 0.8092 - val_f1_m: 0.8698\n",
      "Epoch 66/100\n",
      "303/303 [==============================] - 1s 3ms/sample - loss: 0.4728 - accuracy: 0.7789 - f1_m: 0.7782 - val_loss: 0.4901 - val_accuracy: 0.7786 - val_f1_m: 0.8490\n",
      "Epoch 67/100\n",
      "303/303 [==============================] - 1s 3ms/sample - loss: 0.4851 - accuracy: 0.7690 - f1_m: 0.7654 - val_loss: 0.4718 - val_accuracy: 0.8015 - val_f1_m: 0.8646\n",
      "Epoch 68/100\n",
      "303/303 [==============================] - 1s 3ms/sample - loss: 0.4814 - accuracy: 0.7789 - f1_m: 0.7782 - val_loss: 0.4690 - val_accuracy: 0.8168 - val_f1_m: 0.8750\n",
      "Epoch 69/100\n",
      "303/303 [==============================] - 1s 3ms/sample - loss: 0.4715 - accuracy: 0.7888 - f1_m: 0.7864 - val_loss: 0.4670 - val_accuracy: 0.8168 - val_f1_m: 0.8750\n",
      "Epoch 70/100\n",
      "303/303 [==============================] - 1s 3ms/sample - loss: 0.4757 - accuracy: 0.7888 - f1_m: 0.7898 - val_loss: 0.4648 - val_accuracy: 0.8168 - val_f1_m: 0.8750\n",
      "Epoch 71/100\n",
      "303/303 [==============================] - 1s 3ms/sample - loss: 0.4709 - accuracy: 0.7723 - f1_m: 0.7686 - val_loss: 0.4876 - val_accuracy: 0.7863 - val_f1_m: 0.8542\n",
      "Epoch 72/100\n",
      "303/303 [==============================] - 1s 3ms/sample - loss: 0.4934 - accuracy: 0.8020 - f1_m: 0.7967 - val_loss: 0.4649 - val_accuracy: 0.8168 - val_f1_m: 0.8750\n",
      "Epoch 73/100\n",
      "303/303 [==============================] - 1s 3ms/sample - loss: 0.4783 - accuracy: 0.7921 - f1_m: 0.7896 - val_loss: 0.4782 - val_accuracy: 0.7939 - val_f1_m: 0.8594\n",
      "Epoch 74/100\n",
      "303/303 [==============================] - 1s 3ms/sample - loss: 0.4862 - accuracy: 0.7789 - f1_m: 0.7816 - val_loss: 0.4613 - val_accuracy: 0.8015 - val_f1_m: 0.8646\n",
      "Epoch 75/100\n",
      "303/303 [==============================] - 1s 3ms/sample - loss: 0.4859 - accuracy: 0.7756 - f1_m: 0.7672 - val_loss: 0.4739 - val_accuracy: 0.7939 - val_f1_m: 0.8594\n",
      "Epoch 76/100\n",
      "303/303 [==============================] - 1s 3ms/sample - loss: 0.4795 - accuracy: 0.7723 - f1_m: 0.7663 - val_loss: 0.4735 - val_accuracy: 0.7939 - val_f1_m: 0.8594\n",
      "Epoch 77/100\n",
      "303/303 [==============================] - 1s 3ms/sample - loss: 0.4773 - accuracy: 0.7855 - f1_m: 0.7822 - val_loss: 0.4683 - val_accuracy: 0.8092 - val_f1_m: 0.8698\n",
      "Epoch 78/100\n",
      "303/303 [==============================] - 1s 3ms/sample - loss: 0.4786 - accuracy: 0.7789 - f1_m: 0.7793 - val_loss: 0.4619 - val_accuracy: 0.8015 - val_f1_m: 0.8646\n",
      "Epoch 79/100\n",
      "303/303 [==============================] - 1s 3ms/sample - loss: 0.4802 - accuracy: 0.7855 - f1_m: 0.7833 - val_loss: 0.4678 - val_accuracy: 0.7939 - val_f1_m: 0.8594\n",
      "Epoch 80/100\n",
      "303/303 [==============================] - 1s 3ms/sample - loss: 0.5020 - accuracy: 0.7756 - f1_m: 0.7705 - val_loss: 0.4706 - val_accuracy: 0.8015 - val_f1_m: 0.8646\n",
      "Epoch 81/100\n",
      "303/303 [==============================] - 1s 3ms/sample - loss: 0.4822 - accuracy: 0.7789 - f1_m: 0.7793 - val_loss: 0.4676 - val_accuracy: 0.8092 - val_f1_m: 0.8698\n",
      "Epoch 82/100\n",
      "303/303 [==============================] - 1s 3ms/sample - loss: 0.4713 - accuracy: 0.7789 - f1_m: 0.7793 - val_loss: 0.4646 - val_accuracy: 0.8168 - val_f1_m: 0.8750\n",
      "Epoch 83/100\n",
      "303/303 [==============================] - 1s 3ms/sample - loss: 0.4815 - accuracy: 0.7756 - f1_m: 0.7728 - val_loss: 0.4685 - val_accuracy: 0.8015 - val_f1_m: 0.8646\n",
      "Epoch 84/100\n",
      "303/303 [==============================] - 1s 3ms/sample - loss: 0.4681 - accuracy: 0.7690 - f1_m: 0.7654 - val_loss: 0.4694 - val_accuracy: 0.7863 - val_f1_m: 0.8542\n",
      "Epoch 85/100\n",
      "303/303 [==============================] - 1s 3ms/sample - loss: 0.4829 - accuracy: 0.7624 - f1_m: 0.7603 - val_loss: 0.4920 - val_accuracy: 0.7557 - val_f1_m: 0.8333\n",
      "Epoch 86/100\n",
      "303/303 [==============================] - 1s 3ms/sample - loss: 0.4814 - accuracy: 0.7591 - f1_m: 0.7628 - val_loss: 0.4667 - val_accuracy: 0.8168 - val_f1_m: 0.8750\n",
      "Epoch 87/100\n",
      "303/303 [==============================] - 1s 3ms/sample - loss: 0.4844 - accuracy: 0.7723 - f1_m: 0.7753 - val_loss: 0.4650 - val_accuracy: 0.8015 - val_f1_m: 0.8646\n",
      "Epoch 88/100\n",
      "303/303 [==============================] - 1s 3ms/sample - loss: 0.4699 - accuracy: 0.7822 - f1_m: 0.7836 - val_loss: 0.4827 - val_accuracy: 0.7786 - val_f1_m: 0.8490\n",
      "Epoch 89/100\n",
      "303/303 [==============================] - 1s 3ms/sample - loss: 0.4745 - accuracy: 0.7822 - f1_m: 0.7847 - val_loss: 0.4642 - val_accuracy: 0.8015 - val_f1_m: 0.8646\n",
      "Epoch 90/100\n",
      "303/303 [==============================] - 1s 3ms/sample - loss: 0.4671 - accuracy: 0.7921 - f1_m: 0.7918 - val_loss: 0.4749 - val_accuracy: 0.7939 - val_f1_m: 0.8594\n",
      "Epoch 91/100\n"
     ]
    },
    {
     "name": "stdout",
     "output_type": "stream",
     "text": [
      "303/303 [==============================] - 1s 3ms/sample - loss: 0.4841 - accuracy: 0.7690 - f1_m: 0.7699 - val_loss: 0.4823 - val_accuracy: 0.7786 - val_f1_m: 0.8490\n",
      "Epoch 92/100\n",
      "303/303 [==============================] - 1s 3ms/sample - loss: 0.4688 - accuracy: 0.7888 - f1_m: 0.7864 - val_loss: 0.4640 - val_accuracy: 0.7939 - val_f1_m: 0.8594\n",
      "Epoch 93/100\n",
      "303/303 [==============================] - 1s 3ms/sample - loss: 0.4776 - accuracy: 0.7756 - f1_m: 0.7739 - val_loss: 0.4686 - val_accuracy: 0.8092 - val_f1_m: 0.8698\n",
      "Epoch 94/100\n",
      "303/303 [==============================] - 1s 3ms/sample - loss: 0.4787 - accuracy: 0.7789 - f1_m: 0.7805 - val_loss: 0.4621 - val_accuracy: 0.7939 - val_f1_m: 0.8594\n",
      "Epoch 95/100\n",
      "303/303 [==============================] - 1s 3ms/sample - loss: 0.4622 - accuracy: 0.7855 - f1_m: 0.7856 - val_loss: 0.4717 - val_accuracy: 0.8015 - val_f1_m: 0.8646\n",
      "Epoch 96/100\n",
      "303/303 [==============================] - 1s 3ms/sample - loss: 0.4783 - accuracy: 0.7822 - f1_m: 0.7847 - val_loss: 0.4648 - val_accuracy: 0.8015 - val_f1_m: 0.8646\n",
      "Epoch 97/100\n",
      "303/303 [==============================] - 1s 3ms/sample - loss: 0.4668 - accuracy: 0.7954 - f1_m: 0.7949 - val_loss: 0.4590 - val_accuracy: 0.8092 - val_f1_m: 0.8698\n",
      "Epoch 98/100\n",
      "303/303 [==============================] - 1s 3ms/sample - loss: 0.4768 - accuracy: 0.7822 - f1_m: 0.7802 - val_loss: 0.4676 - val_accuracy: 0.8015 - val_f1_m: 0.8646\n",
      "Epoch 99/100\n",
      "303/303 [==============================] - 1s 3ms/sample - loss: 0.4767 - accuracy: 0.7822 - f1_m: 0.7791 - val_loss: 0.4591 - val_accuracy: 0.7939 - val_f1_m: 0.8594\n",
      "Epoch 100/100\n",
      "303/303 [==============================] - 1s 3ms/sample - loss: 0.5694 - accuracy: 0.7261 - f1_m: 0.7033 - val_loss: 0.4815 - val_accuracy: 0.7786 - val_f1_m: 0.8490\n"
     ]
    },
    {
     "data": {
      "text/plain": [
       "<tensorflow.python.keras.callbacks.History at 0x20ec93ba408>"
      ]
     },
     "execution_count": 32,
     "metadata": {},
     "output_type": "execute_result"
    }
   ],
   "source": [
    "model_2_val.fit(X_train, y_train, epochs=100, batch_size=64, shuffle=True, validation_split=0.3)"
   ]
  },
  {
   "cell_type": "code",
   "execution_count": 33,
   "metadata": {},
   "outputs": [
    {
     "name": "stdout",
     "output_type": "stream",
     "text": [
      "loss:  0.4780027109631745 , accuracy:  0.78341013 , f1 score:  0.78497016\n"
     ]
    }
   ],
   "source": [
    "loss_2, accuracy_2, f1_score_2 = model_2_val.evaluate(X_train, y_train, verbose=0)\n",
    "print('loss: ', loss_2, ', accuracy: ', accuracy_2, ', f1 score: ', f1_score_2)"
   ]
  },
  {
   "cell_type": "code",
   "execution_count": null,
   "metadata": {},
   "outputs": [],
   "source": []
  }
 ],
 "metadata": {
  "kernelspec": {
   "display_name": "Python 3",
   "language": "python",
   "name": "python3"
  },
  "language_info": {
   "codemirror_mode": {
    "name": "ipython",
    "version": 3
   },
   "file_extension": ".py",
   "mimetype": "text/x-python",
   "name": "python",
   "nbconvert_exporter": "python",
   "pygments_lexer": "ipython3",
   "version": "3.7.3"
  }
 },
 "nbformat": 4,
 "nbformat_minor": 4
}
